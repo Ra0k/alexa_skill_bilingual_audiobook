{
  "nbformat": 4,
  "nbformat_minor": 0,
  "metadata": {
    "colab": {
      "name": "bilingual_reader.ipynb",
      "provenance": [],
      "collapsed_sections": [
        "CVSy8SOaa83j",
        "4A0WFrIPbF0G",
        "ai035MOcbuFO",
        "VhgiFTnscpGC"
      ],
      "toc_visible": true,
      "include_colab_link": true
    },
    "kernelspec": {
      "display_name": "Python 3",
      "name": "python3"
    },
    "widgets": {
      "application/vnd.jupyter.widget-state+json": {
        "e04030245c1849d7b55fc1add7d0e7c3": {
          "model_module": "@jupyter-widgets/controls",
          "model_name": "HBoxModel",
          "state": {
            "_view_name": "HBoxView",
            "_dom_classes": [],
            "_model_name": "HBoxModel",
            "_view_module": "@jupyter-widgets/controls",
            "_model_module_version": "1.5.0",
            "_view_count": null,
            "_view_module_version": "1.5.0",
            "box_style": "",
            "layout": "IPY_MODEL_6ee227e3d5fd49639a5485d1a960da4e",
            "_model_module": "@jupyter-widgets/controls",
            "children": [
              "IPY_MODEL_b9438582619f4dc695a34151712e6312",
              "IPY_MODEL_574204fc06e547499d10be859534be13"
            ]
          }
        },
        "6ee227e3d5fd49639a5485d1a960da4e": {
          "model_module": "@jupyter-widgets/base",
          "model_name": "LayoutModel",
          "state": {
            "_view_name": "LayoutView",
            "grid_template_rows": null,
            "right": null,
            "justify_content": null,
            "_view_module": "@jupyter-widgets/base",
            "overflow": null,
            "_model_module_version": "1.2.0",
            "_view_count": null,
            "flex_flow": null,
            "width": null,
            "min_width": null,
            "border": null,
            "align_items": null,
            "bottom": null,
            "_model_module": "@jupyter-widgets/base",
            "top": null,
            "grid_column": null,
            "overflow_y": null,
            "overflow_x": null,
            "grid_auto_flow": null,
            "grid_area": null,
            "grid_template_columns": null,
            "flex": null,
            "_model_name": "LayoutModel",
            "justify_items": null,
            "grid_row": null,
            "max_height": null,
            "align_content": null,
            "visibility": null,
            "align_self": null,
            "height": null,
            "min_height": null,
            "padding": null,
            "grid_auto_rows": null,
            "grid_gap": null,
            "max_width": null,
            "order": null,
            "_view_module_version": "1.2.0",
            "grid_template_areas": null,
            "object_position": null,
            "object_fit": null,
            "grid_auto_columns": null,
            "margin": null,
            "display": null,
            "left": null
          }
        },
        "b9438582619f4dc695a34151712e6312": {
          "model_module": "@jupyter-widgets/controls",
          "model_name": "FloatProgressModel",
          "state": {
            "_view_name": "ProgressView",
            "style": "IPY_MODEL_524301fb2e31490dae237d699f0fe385",
            "_dom_classes": [],
            "description": "Downloading: 100%",
            "_model_name": "FloatProgressModel",
            "bar_style": "success",
            "max": 848917,
            "_view_module": "@jupyter-widgets/controls",
            "_model_module_version": "1.5.0",
            "value": 848917,
            "_view_count": null,
            "_view_module_version": "1.5.0",
            "orientation": "horizontal",
            "min": 0,
            "description_tooltip": null,
            "_model_module": "@jupyter-widgets/controls",
            "layout": "IPY_MODEL_b9c0ebf414e041e1843f97f5cdfdfe5d"
          }
        },
        "574204fc06e547499d10be859534be13": {
          "model_module": "@jupyter-widgets/controls",
          "model_name": "HTMLModel",
          "state": {
            "_view_name": "HTMLView",
            "style": "IPY_MODEL_cad3c69a6ff24ca7b8437946ae795e96",
            "_dom_classes": [],
            "description": "",
            "_model_name": "HTMLModel",
            "placeholder": "​",
            "_view_module": "@jupyter-widgets/controls",
            "_model_module_version": "1.5.0",
            "value": " 849k/849k [00:01&lt;00:00, 734kB/s]",
            "_view_count": null,
            "_view_module_version": "1.5.0",
            "description_tooltip": null,
            "_model_module": "@jupyter-widgets/controls",
            "layout": "IPY_MODEL_5ecff182834743719e306e98e4ec33df"
          }
        },
        "524301fb2e31490dae237d699f0fe385": {
          "model_module": "@jupyter-widgets/controls",
          "model_name": "ProgressStyleModel",
          "state": {
            "_view_name": "StyleView",
            "_model_name": "ProgressStyleModel",
            "description_width": "initial",
            "_view_module": "@jupyter-widgets/base",
            "_model_module_version": "1.5.0",
            "_view_count": null,
            "_view_module_version": "1.2.0",
            "bar_color": null,
            "_model_module": "@jupyter-widgets/controls"
          }
        },
        "b9c0ebf414e041e1843f97f5cdfdfe5d": {
          "model_module": "@jupyter-widgets/base",
          "model_name": "LayoutModel",
          "state": {
            "_view_name": "LayoutView",
            "grid_template_rows": null,
            "right": null,
            "justify_content": null,
            "_view_module": "@jupyter-widgets/base",
            "overflow": null,
            "_model_module_version": "1.2.0",
            "_view_count": null,
            "flex_flow": null,
            "width": null,
            "min_width": null,
            "border": null,
            "align_items": null,
            "bottom": null,
            "_model_module": "@jupyter-widgets/base",
            "top": null,
            "grid_column": null,
            "overflow_y": null,
            "overflow_x": null,
            "grid_auto_flow": null,
            "grid_area": null,
            "grid_template_columns": null,
            "flex": null,
            "_model_name": "LayoutModel",
            "justify_items": null,
            "grid_row": null,
            "max_height": null,
            "align_content": null,
            "visibility": null,
            "align_self": null,
            "height": null,
            "min_height": null,
            "padding": null,
            "grid_auto_rows": null,
            "grid_gap": null,
            "max_width": null,
            "order": null,
            "_view_module_version": "1.2.0",
            "grid_template_areas": null,
            "object_position": null,
            "object_fit": null,
            "grid_auto_columns": null,
            "margin": null,
            "display": null,
            "left": null
          }
        },
        "cad3c69a6ff24ca7b8437946ae795e96": {
          "model_module": "@jupyter-widgets/controls",
          "model_name": "DescriptionStyleModel",
          "state": {
            "_view_name": "StyleView",
            "_model_name": "DescriptionStyleModel",
            "description_width": "",
            "_view_module": "@jupyter-widgets/base",
            "_model_module_version": "1.5.0",
            "_view_count": null,
            "_view_module_version": "1.2.0",
            "_model_module": "@jupyter-widgets/controls"
          }
        },
        "5ecff182834743719e306e98e4ec33df": {
          "model_module": "@jupyter-widgets/base",
          "model_name": "LayoutModel",
          "state": {
            "_view_name": "LayoutView",
            "grid_template_rows": null,
            "right": null,
            "justify_content": null,
            "_view_module": "@jupyter-widgets/base",
            "overflow": null,
            "_model_module_version": "1.2.0",
            "_view_count": null,
            "flex_flow": null,
            "width": null,
            "min_width": null,
            "border": null,
            "align_items": null,
            "bottom": null,
            "_model_module": "@jupyter-widgets/base",
            "top": null,
            "grid_column": null,
            "overflow_y": null,
            "overflow_x": null,
            "grid_auto_flow": null,
            "grid_area": null,
            "grid_template_columns": null,
            "flex": null,
            "_model_name": "LayoutModel",
            "justify_items": null,
            "grid_row": null,
            "max_height": null,
            "align_content": null,
            "visibility": null,
            "align_self": null,
            "height": null,
            "min_height": null,
            "padding": null,
            "grid_auto_rows": null,
            "grid_gap": null,
            "max_width": null,
            "order": null,
            "_view_module_version": "1.2.0",
            "grid_template_areas": null,
            "object_position": null,
            "object_fit": null,
            "grid_auto_columns": null,
            "margin": null,
            "display": null,
            "left": null
          }
        },
        "430c7ae48d1e499e902ee08c1223a45d": {
          "model_module": "@jupyter-widgets/controls",
          "model_name": "HBoxModel",
          "state": {
            "_view_name": "HBoxView",
            "_dom_classes": [],
            "_model_name": "HBoxModel",
            "_view_module": "@jupyter-widgets/controls",
            "_model_module_version": "1.5.0",
            "_view_count": null,
            "_view_module_version": "1.5.0",
            "box_style": "",
            "layout": "IPY_MODEL_723ab9e731bc4dfb9ffefebd899e025c",
            "_model_module": "@jupyter-widgets/controls",
            "children": [
              "IPY_MODEL_247fb9ccbbb04087a7795c48c82772df",
              "IPY_MODEL_8a9b73c220b645deb5b1321e1b1c707c"
            ]
          }
        },
        "723ab9e731bc4dfb9ffefebd899e025c": {
          "model_module": "@jupyter-widgets/base",
          "model_name": "LayoutModel",
          "state": {
            "_view_name": "LayoutView",
            "grid_template_rows": null,
            "right": null,
            "justify_content": null,
            "_view_module": "@jupyter-widgets/base",
            "overflow": null,
            "_model_module_version": "1.2.0",
            "_view_count": null,
            "flex_flow": null,
            "width": null,
            "min_width": null,
            "border": null,
            "align_items": null,
            "bottom": null,
            "_model_module": "@jupyter-widgets/base",
            "top": null,
            "grid_column": null,
            "overflow_y": null,
            "overflow_x": null,
            "grid_auto_flow": null,
            "grid_area": null,
            "grid_template_columns": null,
            "flex": null,
            "_model_name": "LayoutModel",
            "justify_items": null,
            "grid_row": null,
            "max_height": null,
            "align_content": null,
            "visibility": null,
            "align_self": null,
            "height": null,
            "min_height": null,
            "padding": null,
            "grid_auto_rows": null,
            "grid_gap": null,
            "max_width": null,
            "order": null,
            "_view_module_version": "1.2.0",
            "grid_template_areas": null,
            "object_position": null,
            "object_fit": null,
            "grid_auto_columns": null,
            "margin": null,
            "display": null,
            "left": null
          }
        },
        "247fb9ccbbb04087a7795c48c82772df": {
          "model_module": "@jupyter-widgets/controls",
          "model_name": "FloatProgressModel",
          "state": {
            "_view_name": "ProgressView",
            "style": "IPY_MODEL_20231d1435c34252b93a3f76231e3d4e",
            "_dom_classes": [],
            "description": "Downloading: 100%",
            "_model_name": "FloatProgressModel",
            "bar_style": "success",
            "max": 848917,
            "_view_module": "@jupyter-widgets/controls",
            "_model_module_version": "1.5.0",
            "value": 848917,
            "_view_count": null,
            "_view_module_version": "1.5.0",
            "orientation": "horizontal",
            "min": 0,
            "description_tooltip": null,
            "_model_module": "@jupyter-widgets/controls",
            "layout": "IPY_MODEL_7a5131cb52294757b7dfd279af623db0"
          }
        },
        "8a9b73c220b645deb5b1321e1b1c707c": {
          "model_module": "@jupyter-widgets/controls",
          "model_name": "HTMLModel",
          "state": {
            "_view_name": "HTMLView",
            "style": "IPY_MODEL_c9a4a723138041c989745abaab4cde76",
            "_dom_classes": [],
            "description": "",
            "_model_name": "HTMLModel",
            "placeholder": "​",
            "_view_module": "@jupyter-widgets/controls",
            "_model_module_version": "1.5.0",
            "value": " 849k/849k [00:02&lt;00:00, 289kB/s]",
            "_view_count": null,
            "_view_module_version": "1.5.0",
            "description_tooltip": null,
            "_model_module": "@jupyter-widgets/controls",
            "layout": "IPY_MODEL_c67a11ac9574464583f392514e915e0c"
          }
        },
        "20231d1435c34252b93a3f76231e3d4e": {
          "model_module": "@jupyter-widgets/controls",
          "model_name": "ProgressStyleModel",
          "state": {
            "_view_name": "StyleView",
            "_model_name": "ProgressStyleModel",
            "description_width": "initial",
            "_view_module": "@jupyter-widgets/base",
            "_model_module_version": "1.5.0",
            "_view_count": null,
            "_view_module_version": "1.2.0",
            "bar_color": null,
            "_model_module": "@jupyter-widgets/controls"
          }
        },
        "7a5131cb52294757b7dfd279af623db0": {
          "model_module": "@jupyter-widgets/base",
          "model_name": "LayoutModel",
          "state": {
            "_view_name": "LayoutView",
            "grid_template_rows": null,
            "right": null,
            "justify_content": null,
            "_view_module": "@jupyter-widgets/base",
            "overflow": null,
            "_model_module_version": "1.2.0",
            "_view_count": null,
            "flex_flow": null,
            "width": null,
            "min_width": null,
            "border": null,
            "align_items": null,
            "bottom": null,
            "_model_module": "@jupyter-widgets/base",
            "top": null,
            "grid_column": null,
            "overflow_y": null,
            "overflow_x": null,
            "grid_auto_flow": null,
            "grid_area": null,
            "grid_template_columns": null,
            "flex": null,
            "_model_name": "LayoutModel",
            "justify_items": null,
            "grid_row": null,
            "max_height": null,
            "align_content": null,
            "visibility": null,
            "align_self": null,
            "height": null,
            "min_height": null,
            "padding": null,
            "grid_auto_rows": null,
            "grid_gap": null,
            "max_width": null,
            "order": null,
            "_view_module_version": "1.2.0",
            "grid_template_areas": null,
            "object_position": null,
            "object_fit": null,
            "grid_auto_columns": null,
            "margin": null,
            "display": null,
            "left": null
          }
        },
        "c9a4a723138041c989745abaab4cde76": {
          "model_module": "@jupyter-widgets/controls",
          "model_name": "DescriptionStyleModel",
          "state": {
            "_view_name": "StyleView",
            "_model_name": "DescriptionStyleModel",
            "description_width": "",
            "_view_module": "@jupyter-widgets/base",
            "_model_module_version": "1.5.0",
            "_view_count": null,
            "_view_module_version": "1.2.0",
            "_model_module": "@jupyter-widgets/controls"
          }
        },
        "c67a11ac9574464583f392514e915e0c": {
          "model_module": "@jupyter-widgets/base",
          "model_name": "LayoutModel",
          "state": {
            "_view_name": "LayoutView",
            "grid_template_rows": null,
            "right": null,
            "justify_content": null,
            "_view_module": "@jupyter-widgets/base",
            "overflow": null,
            "_model_module_version": "1.2.0",
            "_view_count": null,
            "flex_flow": null,
            "width": null,
            "min_width": null,
            "border": null,
            "align_items": null,
            "bottom": null,
            "_model_module": "@jupyter-widgets/base",
            "top": null,
            "grid_column": null,
            "overflow_y": null,
            "overflow_x": null,
            "grid_auto_flow": null,
            "grid_area": null,
            "grid_template_columns": null,
            "flex": null,
            "_model_name": "LayoutModel",
            "justify_items": null,
            "grid_row": null,
            "max_height": null,
            "align_content": null,
            "visibility": null,
            "align_self": null,
            "height": null,
            "min_height": null,
            "padding": null,
            "grid_auto_rows": null,
            "grid_gap": null,
            "max_width": null,
            "order": null,
            "_view_module_version": "1.2.0",
            "grid_template_areas": null,
            "object_position": null,
            "object_fit": null,
            "grid_auto_columns": null,
            "margin": null,
            "display": null,
            "left": null
          }
        },
        "33567f719e774de6837020c3ac42683e": {
          "model_module": "@jupyter-widgets/controls",
          "model_name": "HBoxModel",
          "state": {
            "_view_name": "HBoxView",
            "_dom_classes": [],
            "_model_name": "HBoxModel",
            "_view_module": "@jupyter-widgets/controls",
            "_model_module_version": "1.5.0",
            "_view_count": null,
            "_view_module_version": "1.5.0",
            "box_style": "",
            "layout": "IPY_MODEL_c91fb0a84ebd4b08b17a40a88b988058",
            "_model_module": "@jupyter-widgets/controls",
            "children": [
              "IPY_MODEL_7961fb80a404419d8db80037d86a114a",
              "IPY_MODEL_befdfc9c2fb74feaa3a43927e08e4b27"
            ]
          }
        },
        "c91fb0a84ebd4b08b17a40a88b988058": {
          "model_module": "@jupyter-widgets/base",
          "model_name": "LayoutModel",
          "state": {
            "_view_name": "LayoutView",
            "grid_template_rows": null,
            "right": null,
            "justify_content": null,
            "_view_module": "@jupyter-widgets/base",
            "overflow": null,
            "_model_module_version": "1.2.0",
            "_view_count": null,
            "flex_flow": null,
            "width": null,
            "min_width": null,
            "border": null,
            "align_items": null,
            "bottom": null,
            "_model_module": "@jupyter-widgets/base",
            "top": null,
            "grid_column": null,
            "overflow_y": null,
            "overflow_x": null,
            "grid_auto_flow": null,
            "grid_area": null,
            "grid_template_columns": null,
            "flex": null,
            "_model_name": "LayoutModel",
            "justify_items": null,
            "grid_row": null,
            "max_height": null,
            "align_content": null,
            "visibility": null,
            "align_self": null,
            "height": null,
            "min_height": null,
            "padding": null,
            "grid_auto_rows": null,
            "grid_gap": null,
            "max_width": null,
            "order": null,
            "_view_module_version": "1.2.0",
            "grid_template_areas": null,
            "object_position": null,
            "object_fit": null,
            "grid_auto_columns": null,
            "margin": null,
            "display": null,
            "left": null
          }
        },
        "7961fb80a404419d8db80037d86a114a": {
          "model_module": "@jupyter-widgets/controls",
          "model_name": "FloatProgressModel",
          "state": {
            "_view_name": "ProgressView",
            "style": "IPY_MODEL_ec753918886a4bd2be816ab566001ecf",
            "_dom_classes": [],
            "description": "Downloading: 100%",
            "_model_name": "FloatProgressModel",
            "bar_style": "success",
            "max": 315003,
            "_view_module": "@jupyter-widgets/controls",
            "_model_module_version": "1.5.0",
            "value": 315003,
            "_view_count": null,
            "_view_module_version": "1.5.0",
            "orientation": "horizontal",
            "min": 0,
            "description_tooltip": null,
            "_model_module": "@jupyter-widgets/controls",
            "layout": "IPY_MODEL_8899049021664d7fbf50981af12d952f"
          }
        },
        "befdfc9c2fb74feaa3a43927e08e4b27": {
          "model_module": "@jupyter-widgets/controls",
          "model_name": "HTMLModel",
          "state": {
            "_view_name": "HTMLView",
            "style": "IPY_MODEL_56dc79ad258a4365818b1d3d0082cc2e",
            "_dom_classes": [],
            "description": "",
            "_model_name": "HTMLModel",
            "placeholder": "​",
            "_view_module": "@jupyter-widgets/controls",
            "_model_module_version": "1.5.0",
            "value": " 315k/315k [00:01&lt;00:00, 168kB/s]",
            "_view_count": null,
            "_view_module_version": "1.5.0",
            "description_tooltip": null,
            "_model_module": "@jupyter-widgets/controls",
            "layout": "IPY_MODEL_5e7b6a7f9d9c4e61825ad1b6062d1b66"
          }
        },
        "ec753918886a4bd2be816ab566001ecf": {
          "model_module": "@jupyter-widgets/controls",
          "model_name": "ProgressStyleModel",
          "state": {
            "_view_name": "StyleView",
            "_model_name": "ProgressStyleModel",
            "description_width": "initial",
            "_view_module": "@jupyter-widgets/base",
            "_model_module_version": "1.5.0",
            "_view_count": null,
            "_view_module_version": "1.2.0",
            "bar_color": null,
            "_model_module": "@jupyter-widgets/controls"
          }
        },
        "8899049021664d7fbf50981af12d952f": {
          "model_module": "@jupyter-widgets/base",
          "model_name": "LayoutModel",
          "state": {
            "_view_name": "LayoutView",
            "grid_template_rows": null,
            "right": null,
            "justify_content": null,
            "_view_module": "@jupyter-widgets/base",
            "overflow": null,
            "_model_module_version": "1.2.0",
            "_view_count": null,
            "flex_flow": null,
            "width": null,
            "min_width": null,
            "border": null,
            "align_items": null,
            "bottom": null,
            "_model_module": "@jupyter-widgets/base",
            "top": null,
            "grid_column": null,
            "overflow_y": null,
            "overflow_x": null,
            "grid_auto_flow": null,
            "grid_area": null,
            "grid_template_columns": null,
            "flex": null,
            "_model_name": "LayoutModel",
            "justify_items": null,
            "grid_row": null,
            "max_height": null,
            "align_content": null,
            "visibility": null,
            "align_self": null,
            "height": null,
            "min_height": null,
            "padding": null,
            "grid_auto_rows": null,
            "grid_gap": null,
            "max_width": null,
            "order": null,
            "_view_module_version": "1.2.0",
            "grid_template_areas": null,
            "object_position": null,
            "object_fit": null,
            "grid_auto_columns": null,
            "margin": null,
            "display": null,
            "left": null
          }
        },
        "56dc79ad258a4365818b1d3d0082cc2e": {
          "model_module": "@jupyter-widgets/controls",
          "model_name": "DescriptionStyleModel",
          "state": {
            "_view_name": "StyleView",
            "_model_name": "DescriptionStyleModel",
            "description_width": "",
            "_view_module": "@jupyter-widgets/base",
            "_model_module_version": "1.5.0",
            "_view_count": null,
            "_view_module_version": "1.2.0",
            "_model_module": "@jupyter-widgets/controls"
          }
        },
        "5e7b6a7f9d9c4e61825ad1b6062d1b66": {
          "model_module": "@jupyter-widgets/base",
          "model_name": "LayoutModel",
          "state": {
            "_view_name": "LayoutView",
            "grid_template_rows": null,
            "right": null,
            "justify_content": null,
            "_view_module": "@jupyter-widgets/base",
            "overflow": null,
            "_model_module_version": "1.2.0",
            "_view_count": null,
            "flex_flow": null,
            "width": null,
            "min_width": null,
            "border": null,
            "align_items": null,
            "bottom": null,
            "_model_module": "@jupyter-widgets/base",
            "top": null,
            "grid_column": null,
            "overflow_y": null,
            "overflow_x": null,
            "grid_auto_flow": null,
            "grid_area": null,
            "grid_template_columns": null,
            "flex": null,
            "_model_name": "LayoutModel",
            "justify_items": null,
            "grid_row": null,
            "max_height": null,
            "align_content": null,
            "visibility": null,
            "align_self": null,
            "height": null,
            "min_height": null,
            "padding": null,
            "grid_auto_rows": null,
            "grid_gap": null,
            "max_width": null,
            "order": null,
            "_view_module_version": "1.2.0",
            "grid_template_areas": null,
            "object_position": null,
            "object_fit": null,
            "grid_auto_columns": null,
            "margin": null,
            "display": null,
            "left": null
          }
        },
        "babda7be4b9a4f0ab078004dfadc2768": {
          "model_module": "@jupyter-widgets/controls",
          "model_name": "HBoxModel",
          "state": {
            "_view_name": "HBoxView",
            "_dom_classes": [],
            "_model_name": "HBoxModel",
            "_view_module": "@jupyter-widgets/controls",
            "_model_module_version": "1.5.0",
            "_view_count": null,
            "_view_module_version": "1.5.0",
            "box_style": "",
            "layout": "IPY_MODEL_ed111a44a1e4457989529d9f80bb1efe",
            "_model_module": "@jupyter-widgets/controls",
            "children": [
              "IPY_MODEL_47be9d3702b749dab1d5392685e0423f",
              "IPY_MODEL_20ce635199594d8b85ccbf5966e455ff"
            ]
          }
        },
        "ed111a44a1e4457989529d9f80bb1efe": {
          "model_module": "@jupyter-widgets/base",
          "model_name": "LayoutModel",
          "state": {
            "_view_name": "LayoutView",
            "grid_template_rows": null,
            "right": null,
            "justify_content": null,
            "_view_module": "@jupyter-widgets/base",
            "overflow": null,
            "_model_module_version": "1.2.0",
            "_view_count": null,
            "flex_flow": null,
            "width": null,
            "min_width": null,
            "border": null,
            "align_items": null,
            "bottom": null,
            "_model_module": "@jupyter-widgets/base",
            "top": null,
            "grid_column": null,
            "overflow_y": null,
            "overflow_x": null,
            "grid_auto_flow": null,
            "grid_area": null,
            "grid_template_columns": null,
            "flex": null,
            "_model_name": "LayoutModel",
            "justify_items": null,
            "grid_row": null,
            "max_height": null,
            "align_content": null,
            "visibility": null,
            "align_self": null,
            "height": null,
            "min_height": null,
            "padding": null,
            "grid_auto_rows": null,
            "grid_gap": null,
            "max_width": null,
            "order": null,
            "_view_module_version": "1.2.0",
            "grid_template_areas": null,
            "object_position": null,
            "object_fit": null,
            "grid_auto_columns": null,
            "margin": null,
            "display": null,
            "left": null
          }
        },
        "47be9d3702b749dab1d5392685e0423f": {
          "model_module": "@jupyter-widgets/controls",
          "model_name": "FloatProgressModel",
          "state": {
            "_view_name": "ProgressView",
            "style": "IPY_MODEL_3ecf3358f6bd45ea9fae18c606bb78a4",
            "_dom_classes": [],
            "description": "Downloading: 100%",
            "_model_name": "FloatProgressModel",
            "bar_style": "success",
            "max": 67,
            "_view_module": "@jupyter-widgets/controls",
            "_model_module_version": "1.5.0",
            "value": 67,
            "_view_count": null,
            "_view_module_version": "1.5.0",
            "orientation": "horizontal",
            "min": 0,
            "description_tooltip": null,
            "_model_module": "@jupyter-widgets/controls",
            "layout": "IPY_MODEL_863d61b4e5894316b484acdb51517127"
          }
        },
        "20ce635199594d8b85ccbf5966e455ff": {
          "model_module": "@jupyter-widgets/controls",
          "model_name": "HTMLModel",
          "state": {
            "_view_name": "HTMLView",
            "style": "IPY_MODEL_cc29238e937b4c369ea58c032a1886d3",
            "_dom_classes": [],
            "description": "",
            "_model_name": "HTMLModel",
            "placeholder": "​",
            "_view_module": "@jupyter-widgets/controls",
            "_model_module_version": "1.5.0",
            "value": " 67.0/67.0 [00:00&lt;00:00, 150B/s]",
            "_view_count": null,
            "_view_module_version": "1.5.0",
            "description_tooltip": null,
            "_model_module": "@jupyter-widgets/controls",
            "layout": "IPY_MODEL_6f68c22ac5044ceab386df8c7d5b106e"
          }
        },
        "3ecf3358f6bd45ea9fae18c606bb78a4": {
          "model_module": "@jupyter-widgets/controls",
          "model_name": "ProgressStyleModel",
          "state": {
            "_view_name": "StyleView",
            "_model_name": "ProgressStyleModel",
            "description_width": "initial",
            "_view_module": "@jupyter-widgets/base",
            "_model_module_version": "1.5.0",
            "_view_count": null,
            "_view_module_version": "1.2.0",
            "bar_color": null,
            "_model_module": "@jupyter-widgets/controls"
          }
        },
        "863d61b4e5894316b484acdb51517127": {
          "model_module": "@jupyter-widgets/base",
          "model_name": "LayoutModel",
          "state": {
            "_view_name": "LayoutView",
            "grid_template_rows": null,
            "right": null,
            "justify_content": null,
            "_view_module": "@jupyter-widgets/base",
            "overflow": null,
            "_model_module_version": "1.2.0",
            "_view_count": null,
            "flex_flow": null,
            "width": null,
            "min_width": null,
            "border": null,
            "align_items": null,
            "bottom": null,
            "_model_module": "@jupyter-widgets/base",
            "top": null,
            "grid_column": null,
            "overflow_y": null,
            "overflow_x": null,
            "grid_auto_flow": null,
            "grid_area": null,
            "grid_template_columns": null,
            "flex": null,
            "_model_name": "LayoutModel",
            "justify_items": null,
            "grid_row": null,
            "max_height": null,
            "align_content": null,
            "visibility": null,
            "align_self": null,
            "height": null,
            "min_height": null,
            "padding": null,
            "grid_auto_rows": null,
            "grid_gap": null,
            "max_width": null,
            "order": null,
            "_view_module_version": "1.2.0",
            "grid_template_areas": null,
            "object_position": null,
            "object_fit": null,
            "grid_auto_columns": null,
            "margin": null,
            "display": null,
            "left": null
          }
        },
        "cc29238e937b4c369ea58c032a1886d3": {
          "model_module": "@jupyter-widgets/controls",
          "model_name": "DescriptionStyleModel",
          "state": {
            "_view_name": "StyleView",
            "_model_name": "DescriptionStyleModel",
            "description_width": "",
            "_view_module": "@jupyter-widgets/base",
            "_model_module_version": "1.5.0",
            "_view_count": null,
            "_view_module_version": "1.2.0",
            "_model_module": "@jupyter-widgets/controls"
          }
        },
        "6f68c22ac5044ceab386df8c7d5b106e": {
          "model_module": "@jupyter-widgets/base",
          "model_name": "LayoutModel",
          "state": {
            "_view_name": "LayoutView",
            "grid_template_rows": null,
            "right": null,
            "justify_content": null,
            "_view_module": "@jupyter-widgets/base",
            "overflow": null,
            "_model_module_version": "1.2.0",
            "_view_count": null,
            "flex_flow": null,
            "width": null,
            "min_width": null,
            "border": null,
            "align_items": null,
            "bottom": null,
            "_model_module": "@jupyter-widgets/base",
            "top": null,
            "grid_column": null,
            "overflow_y": null,
            "overflow_x": null,
            "grid_auto_flow": null,
            "grid_area": null,
            "grid_template_columns": null,
            "flex": null,
            "_model_name": "LayoutModel",
            "justify_items": null,
            "grid_row": null,
            "max_height": null,
            "align_content": null,
            "visibility": null,
            "align_self": null,
            "height": null,
            "min_height": null,
            "padding": null,
            "grid_auto_rows": null,
            "grid_gap": null,
            "max_width": null,
            "order": null,
            "_view_module_version": "1.2.0",
            "grid_template_areas": null,
            "object_position": null,
            "object_fit": null,
            "grid_auto_columns": null,
            "margin": null,
            "display": null,
            "left": null
          }
        },
        "b5b96bc255e7447996b0a9beb8fce90a": {
          "model_module": "@jupyter-widgets/controls",
          "model_name": "HBoxModel",
          "state": {
            "_view_name": "HBoxView",
            "_dom_classes": [],
            "_model_name": "HBoxModel",
            "_view_module": "@jupyter-widgets/controls",
            "_model_module_version": "1.5.0",
            "_view_count": null,
            "_view_module_version": "1.5.0",
            "box_style": "",
            "layout": "IPY_MODEL_77ab5a1a0b884b3786952ed975fcacc5",
            "_model_module": "@jupyter-widgets/controls",
            "children": [
              "IPY_MODEL_0a96df70257f42acae20df0b65e4adbd",
              "IPY_MODEL_6d08b689ebd34b9e9609bc38fb6afb55"
            ]
          }
        },
        "77ab5a1a0b884b3786952ed975fcacc5": {
          "model_module": "@jupyter-widgets/base",
          "model_name": "LayoutModel",
          "state": {
            "_view_name": "LayoutView",
            "grid_template_rows": null,
            "right": null,
            "justify_content": null,
            "_view_module": "@jupyter-widgets/base",
            "overflow": null,
            "_model_module_version": "1.2.0",
            "_view_count": null,
            "flex_flow": null,
            "width": null,
            "min_width": null,
            "border": null,
            "align_items": null,
            "bottom": null,
            "_model_module": "@jupyter-widgets/base",
            "top": null,
            "grid_column": null,
            "overflow_y": null,
            "overflow_x": null,
            "grid_auto_flow": null,
            "grid_area": null,
            "grid_template_columns": null,
            "flex": null,
            "_model_name": "LayoutModel",
            "justify_items": null,
            "grid_row": null,
            "max_height": null,
            "align_content": null,
            "visibility": null,
            "align_self": null,
            "height": null,
            "min_height": null,
            "padding": null,
            "grid_auto_rows": null,
            "grid_gap": null,
            "max_width": null,
            "order": null,
            "_view_module_version": "1.2.0",
            "grid_template_areas": null,
            "object_position": null,
            "object_fit": null,
            "grid_auto_columns": null,
            "margin": null,
            "display": null,
            "left": null
          }
        },
        "0a96df70257f42acae20df0b65e4adbd": {
          "model_module": "@jupyter-widgets/controls",
          "model_name": "FloatProgressModel",
          "state": {
            "_view_name": "ProgressView",
            "style": "IPY_MODEL_33fa5904fb5142799d15d0ae6795d9d0",
            "_dom_classes": [],
            "description": "Downloading: 100%",
            "_model_name": "FloatProgressModel",
            "bar_style": "success",
            "max": 825,
            "_view_module": "@jupyter-widgets/controls",
            "_model_module_version": "1.5.0",
            "value": 825,
            "_view_count": null,
            "_view_module_version": "1.5.0",
            "orientation": "horizontal",
            "min": 0,
            "description_tooltip": null,
            "_model_module": "@jupyter-widgets/controls",
            "layout": "IPY_MODEL_ae5d287d27f84d9fb1ef33aa788748f8"
          }
        },
        "6d08b689ebd34b9e9609bc38fb6afb55": {
          "model_module": "@jupyter-widgets/controls",
          "model_name": "HTMLModel",
          "state": {
            "_view_name": "HTMLView",
            "style": "IPY_MODEL_d98aa6f418de44fa921046c075dc60b3",
            "_dom_classes": [],
            "description": "",
            "_model_name": "HTMLModel",
            "placeholder": "​",
            "_view_module": "@jupyter-widgets/controls",
            "_model_module_version": "1.5.0",
            "value": " 825/825 [00:40&lt;00:00, 20.5B/s]",
            "_view_count": null,
            "_view_module_version": "1.5.0",
            "description_tooltip": null,
            "_model_module": "@jupyter-widgets/controls",
            "layout": "IPY_MODEL_02de140334434a01b31ad51ddef13f24"
          }
        },
        "33fa5904fb5142799d15d0ae6795d9d0": {
          "model_module": "@jupyter-widgets/controls",
          "model_name": "ProgressStyleModel",
          "state": {
            "_view_name": "StyleView",
            "_model_name": "ProgressStyleModel",
            "description_width": "initial",
            "_view_module": "@jupyter-widgets/base",
            "_model_module_version": "1.5.0",
            "_view_count": null,
            "_view_module_version": "1.2.0",
            "bar_color": null,
            "_model_module": "@jupyter-widgets/controls"
          }
        },
        "ae5d287d27f84d9fb1ef33aa788748f8": {
          "model_module": "@jupyter-widgets/base",
          "model_name": "LayoutModel",
          "state": {
            "_view_name": "LayoutView",
            "grid_template_rows": null,
            "right": null,
            "justify_content": null,
            "_view_module": "@jupyter-widgets/base",
            "overflow": null,
            "_model_module_version": "1.2.0",
            "_view_count": null,
            "flex_flow": null,
            "width": null,
            "min_width": null,
            "border": null,
            "align_items": null,
            "bottom": null,
            "_model_module": "@jupyter-widgets/base",
            "top": null,
            "grid_column": null,
            "overflow_y": null,
            "overflow_x": null,
            "grid_auto_flow": null,
            "grid_area": null,
            "grid_template_columns": null,
            "flex": null,
            "_model_name": "LayoutModel",
            "justify_items": null,
            "grid_row": null,
            "max_height": null,
            "align_content": null,
            "visibility": null,
            "align_self": null,
            "height": null,
            "min_height": null,
            "padding": null,
            "grid_auto_rows": null,
            "grid_gap": null,
            "max_width": null,
            "order": null,
            "_view_module_version": "1.2.0",
            "grid_template_areas": null,
            "object_position": null,
            "object_fit": null,
            "grid_auto_columns": null,
            "margin": null,
            "display": null,
            "left": null
          }
        },
        "d98aa6f418de44fa921046c075dc60b3": {
          "model_module": "@jupyter-widgets/controls",
          "model_name": "DescriptionStyleModel",
          "state": {
            "_view_name": "StyleView",
            "_model_name": "DescriptionStyleModel",
            "description_width": "",
            "_view_module": "@jupyter-widgets/base",
            "_model_module_version": "1.5.0",
            "_view_count": null,
            "_view_module_version": "1.2.0",
            "_model_module": "@jupyter-widgets/controls"
          }
        },
        "02de140334434a01b31ad51ddef13f24": {
          "model_module": "@jupyter-widgets/base",
          "model_name": "LayoutModel",
          "state": {
            "_view_name": "LayoutView",
            "grid_template_rows": null,
            "right": null,
            "justify_content": null,
            "_view_module": "@jupyter-widgets/base",
            "overflow": null,
            "_model_module_version": "1.2.0",
            "_view_count": null,
            "flex_flow": null,
            "width": null,
            "min_width": null,
            "border": null,
            "align_items": null,
            "bottom": null,
            "_model_module": "@jupyter-widgets/base",
            "top": null,
            "grid_column": null,
            "overflow_y": null,
            "overflow_x": null,
            "grid_auto_flow": null,
            "grid_area": null,
            "grid_template_columns": null,
            "flex": null,
            "_model_name": "LayoutModel",
            "justify_items": null,
            "grid_row": null,
            "max_height": null,
            "align_content": null,
            "visibility": null,
            "align_self": null,
            "height": null,
            "min_height": null,
            "padding": null,
            "grid_auto_rows": null,
            "grid_gap": null,
            "max_width": null,
            "order": null,
            "_view_module_version": "1.2.0",
            "grid_template_areas": null,
            "object_position": null,
            "object_fit": null,
            "grid_auto_columns": null,
            "margin": null,
            "display": null,
            "left": null
          }
        },
        "64e9479c53fa408ba5b310487e0f0d54": {
          "model_module": "@jupyter-widgets/controls",
          "model_name": "HBoxModel",
          "state": {
            "_view_name": "HBoxView",
            "_dom_classes": [],
            "_model_name": "HBoxModel",
            "_view_module": "@jupyter-widgets/controls",
            "_model_module_version": "1.5.0",
            "_view_count": null,
            "_view_module_version": "1.5.0",
            "box_style": "",
            "layout": "IPY_MODEL_8ac0cffe3a974054ab89d57bc8d6e824",
            "_model_module": "@jupyter-widgets/controls",
            "children": [
              "IPY_MODEL_ca8df3b3154d49efa00b51e0960fb13b",
              "IPY_MODEL_cb2ec113dfa04ba88b864e419fa01310"
            ]
          }
        },
        "8ac0cffe3a974054ab89d57bc8d6e824": {
          "model_module": "@jupyter-widgets/base",
          "model_name": "LayoutModel",
          "state": {
            "_view_name": "LayoutView",
            "grid_template_rows": null,
            "right": null,
            "justify_content": null,
            "_view_module": "@jupyter-widgets/base",
            "overflow": null,
            "_model_module_version": "1.2.0",
            "_view_count": null,
            "flex_flow": null,
            "width": null,
            "min_width": null,
            "border": null,
            "align_items": null,
            "bottom": null,
            "_model_module": "@jupyter-widgets/base",
            "top": null,
            "grid_column": null,
            "overflow_y": null,
            "overflow_x": null,
            "grid_auto_flow": null,
            "grid_area": null,
            "grid_template_columns": null,
            "flex": null,
            "_model_name": "LayoutModel",
            "justify_items": null,
            "grid_row": null,
            "max_height": null,
            "align_content": null,
            "visibility": null,
            "align_self": null,
            "height": null,
            "min_height": null,
            "padding": null,
            "grid_auto_rows": null,
            "grid_gap": null,
            "max_width": null,
            "order": null,
            "_view_module_version": "1.2.0",
            "grid_template_areas": null,
            "object_position": null,
            "object_fit": null,
            "grid_auto_columns": null,
            "margin": null,
            "display": null,
            "left": null
          }
        },
        "ca8df3b3154d49efa00b51e0960fb13b": {
          "model_module": "@jupyter-widgets/controls",
          "model_name": "FloatProgressModel",
          "state": {
            "_view_name": "ProgressView",
            "style": "IPY_MODEL_2c62f55bd8e14e93a8343fd3ccb614d0",
            "_dom_classes": [],
            "description": "Downloading: 100%",
            "_model_name": "FloatProgressModel",
            "bar_style": "success",
            "max": 1079071572,
            "_view_module": "@jupyter-widgets/controls",
            "_model_module_version": "1.5.0",
            "value": 1079071572,
            "_view_count": null,
            "_view_module_version": "1.5.0",
            "orientation": "horizontal",
            "min": 0,
            "description_tooltip": null,
            "_model_module": "@jupyter-widgets/controls",
            "layout": "IPY_MODEL_f020cf942a48484c9f5fb9a4e23b2317"
          }
        },
        "cb2ec113dfa04ba88b864e419fa01310": {
          "model_module": "@jupyter-widgets/controls",
          "model_name": "HTMLModel",
          "state": {
            "_view_name": "HTMLView",
            "style": "IPY_MODEL_046d753439df4f61818a0636ff5ef809",
            "_dom_classes": [],
            "description": "",
            "_model_name": "HTMLModel",
            "placeholder": "​",
            "_view_module": "@jupyter-widgets/controls",
            "_model_module_version": "1.5.0",
            "value": " 1.08G/1.08G [00:33&lt;00:00, 32.6MB/s]",
            "_view_count": null,
            "_view_module_version": "1.5.0",
            "description_tooltip": null,
            "_model_module": "@jupyter-widgets/controls",
            "layout": "IPY_MODEL_d413e800587d4837a5151ef156ab5bf0"
          }
        },
        "2c62f55bd8e14e93a8343fd3ccb614d0": {
          "model_module": "@jupyter-widgets/controls",
          "model_name": "ProgressStyleModel",
          "state": {
            "_view_name": "StyleView",
            "_model_name": "ProgressStyleModel",
            "description_width": "initial",
            "_view_module": "@jupyter-widgets/base",
            "_model_module_version": "1.5.0",
            "_view_count": null,
            "_view_module_version": "1.2.0",
            "bar_color": null,
            "_model_module": "@jupyter-widgets/controls"
          }
        },
        "f020cf942a48484c9f5fb9a4e23b2317": {
          "model_module": "@jupyter-widgets/base",
          "model_name": "LayoutModel",
          "state": {
            "_view_name": "LayoutView",
            "grid_template_rows": null,
            "right": null,
            "justify_content": null,
            "_view_module": "@jupyter-widgets/base",
            "overflow": null,
            "_model_module_version": "1.2.0",
            "_view_count": null,
            "flex_flow": null,
            "width": null,
            "min_width": null,
            "border": null,
            "align_items": null,
            "bottom": null,
            "_model_module": "@jupyter-widgets/base",
            "top": null,
            "grid_column": null,
            "overflow_y": null,
            "overflow_x": null,
            "grid_auto_flow": null,
            "grid_area": null,
            "grid_template_columns": null,
            "flex": null,
            "_model_name": "LayoutModel",
            "justify_items": null,
            "grid_row": null,
            "max_height": null,
            "align_content": null,
            "visibility": null,
            "align_self": null,
            "height": null,
            "min_height": null,
            "padding": null,
            "grid_auto_rows": null,
            "grid_gap": null,
            "max_width": null,
            "order": null,
            "_view_module_version": "1.2.0",
            "grid_template_areas": null,
            "object_position": null,
            "object_fit": null,
            "grid_auto_columns": null,
            "margin": null,
            "display": null,
            "left": null
          }
        },
        "046d753439df4f61818a0636ff5ef809": {
          "model_module": "@jupyter-widgets/controls",
          "model_name": "DescriptionStyleModel",
          "state": {
            "_view_name": "StyleView",
            "_model_name": "DescriptionStyleModel",
            "description_width": "",
            "_view_module": "@jupyter-widgets/base",
            "_model_module_version": "1.5.0",
            "_view_count": null,
            "_view_module_version": "1.2.0",
            "_model_module": "@jupyter-widgets/controls"
          }
        },
        "d413e800587d4837a5151ef156ab5bf0": {
          "model_module": "@jupyter-widgets/base",
          "model_name": "LayoutModel",
          "state": {
            "_view_name": "LayoutView",
            "grid_template_rows": null,
            "right": null,
            "justify_content": null,
            "_view_module": "@jupyter-widgets/base",
            "overflow": null,
            "_model_module_version": "1.2.0",
            "_view_count": null,
            "flex_flow": null,
            "width": null,
            "min_width": null,
            "border": null,
            "align_items": null,
            "bottom": null,
            "_model_module": "@jupyter-widgets/base",
            "top": null,
            "grid_column": null,
            "overflow_y": null,
            "overflow_x": null,
            "grid_auto_flow": null,
            "grid_area": null,
            "grid_template_columns": null,
            "flex": null,
            "_model_name": "LayoutModel",
            "justify_items": null,
            "grid_row": null,
            "max_height": null,
            "align_content": null,
            "visibility": null,
            "align_self": null,
            "height": null,
            "min_height": null,
            "padding": null,
            "grid_auto_rows": null,
            "grid_gap": null,
            "max_width": null,
            "order": null,
            "_view_module_version": "1.2.0",
            "grid_template_areas": null,
            "object_position": null,
            "object_fit": null,
            "grid_auto_columns": null,
            "margin": null,
            "display": null,
            "left": null
          }
        }
      }
    }
  },
  "cells": [
    {
      "cell_type": "markdown",
      "metadata": {
        "id": "view-in-github",
        "colab_type": "text"
      },
      "source": [
        "<a href=\"https://colab.research.google.com/github/Ra0k/alexa_skill_bilingual_audiobook/blob/main/bilingual_reader.ipynb\" target=\"_parent\"><img src=\"https://colab.research.google.com/assets/colab-badge.svg\" alt=\"Open In Colab\"/></a>"
      ]
    },
    {
      "cell_type": "code",
      "metadata": {
        "colab": {
          "base_uri": "https://localhost:8080/"
        },
        "id": "0OhiRSizVCtV",
        "outputId": "241ca935-7f66-4757-fae9-118aa2003afc"
      },
      "source": [
        "from google.colab import drive\n",
        "drive.mount('/content/drive')"
      ],
      "execution_count": 5,
      "outputs": [
        {
          "output_type": "stream",
          "text": [
            "Mounted at /content/drive\n"
          ],
          "name": "stdout"
        }
      ]
    },
    {
      "cell_type": "markdown",
      "metadata": {
        "id": "CVSy8SOaa83j"
      },
      "source": [
        "# Download Translator"
      ]
    },
    {
      "cell_type": "code",
      "metadata": {
        "colab": {
          "base_uri": "https://localhost:8080/"
        },
        "id": "j3KIX1bxW1uY",
        "outputId": "2092fefc-f360-4dbb-f0aa-b0c993fd488e"
      },
      "source": [
        "%%bash\n",
        "#pip install fastBPE regex requests sacremoses subword_nmt omegaconf hydra-core\n",
        "pip install transformers"
      ],
      "execution_count": 2,
      "outputs": [
        {
          "output_type": "stream",
          "text": [
            "Collecting transformers\n",
            "  Downloading https://files.pythonhosted.org/packages/88/b1/41130a228dd656a1a31ba281598a968320283f48d42782845f6ba567f00b/transformers-4.2.2-py3-none-any.whl (1.8MB)\n",
            "Requirement already satisfied: importlib-metadata; python_version < \"3.8\" in /usr/local/lib/python3.6/dist-packages (from transformers) (3.4.0)\n",
            "Collecting tokenizers==0.9.4\n",
            "  Downloading https://files.pythonhosted.org/packages/0f/1c/e789a8b12e28be5bc1ce2156cf87cb522b379be9cadc7ad8091a4cc107c4/tokenizers-0.9.4-cp36-cp36m-manylinux2010_x86_64.whl (2.9MB)\n",
            "Requirement already satisfied: regex!=2019.12.17 in /usr/local/lib/python3.6/dist-packages (from transformers) (2019.12.20)\n",
            "Requirement already satisfied: filelock in /usr/local/lib/python3.6/dist-packages (from transformers) (3.0.12)\n",
            "Requirement already satisfied: tqdm>=4.27 in /usr/local/lib/python3.6/dist-packages (from transformers) (4.41.1)\n",
            "Requirement already satisfied: dataclasses; python_version < \"3.7\" in /usr/local/lib/python3.6/dist-packages (from transformers) (0.8)\n",
            "Collecting sacremoses\n",
            "  Downloading https://files.pythonhosted.org/packages/7d/34/09d19aff26edcc8eb2a01bed8e98f13a1537005d31e95233fd48216eed10/sacremoses-0.0.43.tar.gz (883kB)\n",
            "Requirement already satisfied: requests in /usr/local/lib/python3.6/dist-packages (from transformers) (2.23.0)\n",
            "Requirement already satisfied: packaging in /usr/local/lib/python3.6/dist-packages (from transformers) (20.8)\n",
            "Requirement already satisfied: numpy in /usr/local/lib/python3.6/dist-packages (from transformers) (1.19.5)\n",
            "Requirement already satisfied: zipp>=0.5 in /usr/local/lib/python3.6/dist-packages (from importlib-metadata; python_version < \"3.8\"->transformers) (3.4.0)\n",
            "Requirement already satisfied: typing-extensions>=3.6.4; python_version < \"3.8\" in /usr/local/lib/python3.6/dist-packages (from importlib-metadata; python_version < \"3.8\"->transformers) (3.7.4.3)\n",
            "Requirement already satisfied: six in /usr/local/lib/python3.6/dist-packages (from sacremoses->transformers) (1.15.0)\n",
            "Requirement already satisfied: click in /usr/local/lib/python3.6/dist-packages (from sacremoses->transformers) (7.1.2)\n",
            "Requirement already satisfied: joblib in /usr/local/lib/python3.6/dist-packages (from sacremoses->transformers) (1.0.0)\n",
            "Requirement already satisfied: idna<3,>=2.5 in /usr/local/lib/python3.6/dist-packages (from requests->transformers) (2.10)\n",
            "Requirement already satisfied: urllib3!=1.25.0,!=1.25.1,<1.26,>=1.21.1 in /usr/local/lib/python3.6/dist-packages (from requests->transformers) (1.24.3)\n",
            "Requirement already satisfied: certifi>=2017.4.17 in /usr/local/lib/python3.6/dist-packages (from requests->transformers) (2020.12.5)\n",
            "Requirement already satisfied: chardet<4,>=3.0.2 in /usr/local/lib/python3.6/dist-packages (from requests->transformers) (3.0.4)\n",
            "Requirement already satisfied: pyparsing>=2.0.2 in /usr/local/lib/python3.6/dist-packages (from packaging->transformers) (2.4.7)\n",
            "Building wheels for collected packages: sacremoses\n",
            "  Building wheel for sacremoses (setup.py): started\n",
            "  Building wheel for sacremoses (setup.py): finished with status 'done'\n",
            "  Created wheel for sacremoses: filename=sacremoses-0.0.43-cp36-none-any.whl size=893261 sha256=288f8cb97b0e7d2e83f3da07bfd58e3ad8aa8715dfc8818e9dc9b143cb66b2a6\n",
            "  Stored in directory: /root/.cache/pip/wheels/29/3c/fd/7ce5c3f0666dab31a50123635e6fb5e19ceb42ce38d4e58f45\n",
            "Successfully built sacremoses\n",
            "Installing collected packages: tokenizers, sacremoses, transformers\n",
            "Successfully installed sacremoses-0.0.43 tokenizers-0.9.4 transformers-4.2.2\n"
          ],
          "name": "stdout"
        }
      ]
    },
    {
      "cell_type": "code",
      "metadata": {
        "id": "B5bMndaG88T6",
        "colab": {
          "base_uri": "https://localhost:8080/",
          "height": 311,
          "referenced_widgets": [
            "e04030245c1849d7b55fc1add7d0e7c3",
            "6ee227e3d5fd49639a5485d1a960da4e",
            "b9438582619f4dc695a34151712e6312",
            "574204fc06e547499d10be859534be13",
            "524301fb2e31490dae237d699f0fe385",
            "b9c0ebf414e041e1843f97f5cdfdfe5d",
            "cad3c69a6ff24ca7b8437946ae795e96",
            "5ecff182834743719e306e98e4ec33df",
            "430c7ae48d1e499e902ee08c1223a45d",
            "723ab9e731bc4dfb9ffefebd899e025c",
            "247fb9ccbbb04087a7795c48c82772df",
            "8a9b73c220b645deb5b1321e1b1c707c",
            "20231d1435c34252b93a3f76231e3d4e",
            "7a5131cb52294757b7dfd279af623db0",
            "c9a4a723138041c989745abaab4cde76",
            "c67a11ac9574464583f392514e915e0c",
            "33567f719e774de6837020c3ac42683e",
            "c91fb0a84ebd4b08b17a40a88b988058",
            "7961fb80a404419d8db80037d86a114a",
            "befdfc9c2fb74feaa3a43927e08e4b27",
            "ec753918886a4bd2be816ab566001ecf",
            "8899049021664d7fbf50981af12d952f",
            "56dc79ad258a4365818b1d3d0082cc2e",
            "5e7b6a7f9d9c4e61825ad1b6062d1b66",
            "babda7be4b9a4f0ab078004dfadc2768",
            "ed111a44a1e4457989529d9f80bb1efe",
            "47be9d3702b749dab1d5392685e0423f",
            "20ce635199594d8b85ccbf5966e455ff",
            "3ecf3358f6bd45ea9fae18c606bb78a4",
            "863d61b4e5894316b484acdb51517127",
            "cc29238e937b4c369ea58c032a1886d3",
            "6f68c22ac5044ceab386df8c7d5b106e",
            "b5b96bc255e7447996b0a9beb8fce90a",
            "77ab5a1a0b884b3786952ed975fcacc5",
            "0a96df70257f42acae20df0b65e4adbd",
            "6d08b689ebd34b9e9609bc38fb6afb55",
            "33fa5904fb5142799d15d0ae6795d9d0",
            "ae5d287d27f84d9fb1ef33aa788748f8",
            "d98aa6f418de44fa921046c075dc60b3",
            "02de140334434a01b31ad51ddef13f24",
            "64e9479c53fa408ba5b310487e0f0d54",
            "8ac0cffe3a974054ab89d57bc8d6e824",
            "ca8df3b3154d49efa00b51e0960fb13b",
            "cb2ec113dfa04ba88b864e419fa01310",
            "2c62f55bd8e14e93a8343fd3ccb614d0",
            "f020cf942a48484c9f5fb9a4e23b2317",
            "046d753439df4f61818a0636ff5ef809",
            "d413e800587d4837a5151ef156ab5bf0"
          ]
        },
        "outputId": "2ce2dc56-92e6-4325-f51d-425c7c137c91"
      },
      "source": [
        "from transformers import FSMTForConditionalGeneration, FSMTTokenizer\n",
        "mname = \"facebook/wmt19-de-en\"\n",
        "tokenizer = FSMTTokenizer.from_pretrained(mname)\n",
        "model = FSMTForConditionalGeneration.from_pretrained(mname)\n"
      ],
      "execution_count": 3,
      "outputs": [
        {
          "output_type": "display_data",
          "data": {
            "application/vnd.jupyter.widget-view+json": {
              "model_id": "e04030245c1849d7b55fc1add7d0e7c3",
              "version_minor": 0,
              "version_major": 2
            },
            "text/plain": [
              "HBox(children=(FloatProgress(value=0.0, description='Downloading', max=848917.0, style=ProgressStyle(descripti…"
            ]
          },
          "metadata": {
            "tags": []
          }
        },
        {
          "output_type": "stream",
          "text": [
            "\n"
          ],
          "name": "stdout"
        },
        {
          "output_type": "display_data",
          "data": {
            "application/vnd.jupyter.widget-view+json": {
              "model_id": "430c7ae48d1e499e902ee08c1223a45d",
              "version_minor": 0,
              "version_major": 2
            },
            "text/plain": [
              "HBox(children=(FloatProgress(value=0.0, description='Downloading', max=848917.0, style=ProgressStyle(descripti…"
            ]
          },
          "metadata": {
            "tags": []
          }
        },
        {
          "output_type": "stream",
          "text": [
            "\n"
          ],
          "name": "stdout"
        },
        {
          "output_type": "display_data",
          "data": {
            "application/vnd.jupyter.widget-view+json": {
              "model_id": "33567f719e774de6837020c3ac42683e",
              "version_minor": 0,
              "version_major": 2
            },
            "text/plain": [
              "HBox(children=(FloatProgress(value=0.0, description='Downloading', max=315003.0, style=ProgressStyle(descripti…"
            ]
          },
          "metadata": {
            "tags": []
          }
        },
        {
          "output_type": "stream",
          "text": [
            "\n"
          ],
          "name": "stdout"
        },
        {
          "output_type": "display_data",
          "data": {
            "application/vnd.jupyter.widget-view+json": {
              "model_id": "babda7be4b9a4f0ab078004dfadc2768",
              "version_minor": 0,
              "version_major": 2
            },
            "text/plain": [
              "HBox(children=(FloatProgress(value=0.0, description='Downloading', max=67.0, style=ProgressStyle(description_w…"
            ]
          },
          "metadata": {
            "tags": []
          }
        },
        {
          "output_type": "stream",
          "text": [
            "\n"
          ],
          "name": "stdout"
        },
        {
          "output_type": "display_data",
          "data": {
            "application/vnd.jupyter.widget-view+json": {
              "model_id": "b5b96bc255e7447996b0a9beb8fce90a",
              "version_minor": 0,
              "version_major": 2
            },
            "text/plain": [
              "HBox(children=(FloatProgress(value=0.0, description='Downloading', max=825.0, style=ProgressStyle(description_…"
            ]
          },
          "metadata": {
            "tags": []
          }
        },
        {
          "output_type": "stream",
          "text": [
            "\n"
          ],
          "name": "stdout"
        },
        {
          "output_type": "display_data",
          "data": {
            "application/vnd.jupyter.widget-view+json": {
              "model_id": "64e9479c53fa408ba5b310487e0f0d54",
              "version_minor": 0,
              "version_major": 2
            },
            "text/plain": [
              "HBox(children=(FloatProgress(value=0.0, description='Downloading', max=1079071572.0, style=ProgressStyle(descr…"
            ]
          },
          "metadata": {
            "tags": []
          }
        },
        {
          "output_type": "stream",
          "text": [
            "\n"
          ],
          "name": "stdout"
        }
      ]
    },
    {
      "cell_type": "code",
      "metadata": {
        "colab": {
          "base_uri": "https://localhost:8080/"
        },
        "id": "vLgaB7Xv9R9x",
        "outputId": "aed48cd7-91a4-4c06-a925-b9a33ece4e88"
      },
      "source": [
        "input = \"Sternschnuppen unten in Kent ich wette, das war Dädalus Diggel.\"\n",
        "input_ids = tokenizer.encode(input, return_tensors=\"pt\")\n",
        "outputs = model.generate(input_ids)\n",
        "decoded = tokenizer.decode(outputs[0], skip_special_tokens=True)\n",
        "print(decoded)"
      ],
      "execution_count": 4,
      "outputs": [
        {
          "output_type": "stream",
          "text": [
            "Shooting stars down in Kent I bet that was Daedalus Diggel.\n"
          ],
          "name": "stdout"
        }
      ]
    },
    {
      "cell_type": "code",
      "metadata": {
        "colab": {
          "base_uri": "https://localhost:8080/"
        },
        "id": "tEAxpCN8cqe6",
        "outputId": "77c8d928-7cac-4039-ec7d-2d932b6cf32e"
      },
      "source": [
        "def count_parameters(model):\n",
        "    return sum(p.numel() for p in model.parameters() if p.requires_grad)\n",
        "\n",
        "print(f'The model has {count_parameters(model):,} trainable parameters')"
      ],
      "execution_count": 5,
      "outputs": [
        {
          "output_type": "stream",
          "text": [
            "The model has 312,778,752 trainable parameters\n"
          ],
          "name": "stdout"
        }
      ]
    },
    {
      "cell_type": "markdown",
      "metadata": {
        "id": "4A0WFrIPbF0G"
      },
      "source": [
        "# Read file"
      ]
    },
    {
      "cell_type": "code",
      "metadata": {
        "id": "XQ-2OAZFaw84"
      },
      "source": [
        "def readFile(filename):\n",
        "    with open(filename, 'rt') as file:\n",
        "      text = file.read()\n",
        "    \n",
        "    return text"
      ],
      "execution_count": 2,
      "outputs": []
    },
    {
      "cell_type": "code",
      "metadata": {
        "id": "6aXJqb40a0P5",
        "colab": {
          "base_uri": "https://localhost:8080/",
          "height": 334
        },
        "outputId": "25298426-04e9-439a-dc9e-3758c093d66b"
      },
      "source": [
        "import os\n",
        "base_path = \"/content/drive/My Drive/Colab Notebooks/translator/content/\"\n",
        "book_name = \"de_kafka_prozess.txt\"\n",
        "book_name_en = \"en_kafka_prozess.txt\"\n",
        "book_name_base, book_name_ext = os.path.splitext(book_name)\n",
        "\n",
        "sentences = readFile(base_path + book_name).split('\\n')\n"
      ],
      "execution_count": 4,
      "outputs": [
        {
          "output_type": "error",
          "ename": "FileNotFoundError",
          "evalue": "ignored",
          "traceback": [
            "\u001b[0;31m---------------------------------------------------------------------------\u001b[0m",
            "\u001b[0;31mFileNotFoundError\u001b[0m                         Traceback (most recent call last)",
            "\u001b[0;32m<ipython-input-4-b00146aca37b>\u001b[0m in \u001b[0;36m<module>\u001b[0;34m()\u001b[0m\n\u001b[1;32m      5\u001b[0m \u001b[0mbook_name_base\u001b[0m\u001b[0;34m,\u001b[0m \u001b[0mbook_name_ext\u001b[0m \u001b[0;34m=\u001b[0m \u001b[0mos\u001b[0m\u001b[0;34m.\u001b[0m\u001b[0mpath\u001b[0m\u001b[0;34m.\u001b[0m\u001b[0msplitext\u001b[0m\u001b[0;34m(\u001b[0m\u001b[0mbook_name\u001b[0m\u001b[0;34m)\u001b[0m\u001b[0;34m\u001b[0m\u001b[0;34m\u001b[0m\u001b[0m\n\u001b[1;32m      6\u001b[0m \u001b[0;34m\u001b[0m\u001b[0m\n\u001b[0;32m----> 7\u001b[0;31m \u001b[0msentences\u001b[0m \u001b[0;34m=\u001b[0m \u001b[0mreadFile\u001b[0m\u001b[0;34m(\u001b[0m\u001b[0mbase_path\u001b[0m \u001b[0;34m+\u001b[0m \u001b[0mbook_name\u001b[0m\u001b[0;34m)\u001b[0m\u001b[0;34m.\u001b[0m\u001b[0msplit\u001b[0m\u001b[0;34m(\u001b[0m\u001b[0;34m'\\n'\u001b[0m\u001b[0;34m)\u001b[0m\u001b[0;34m\u001b[0m\u001b[0;34m\u001b[0m\u001b[0m\n\u001b[0m",
            "\u001b[0;32m<ipython-input-2-104e59acf9f6>\u001b[0m in \u001b[0;36mreadFile\u001b[0;34m(filename)\u001b[0m\n\u001b[1;32m      1\u001b[0m \u001b[0;32mdef\u001b[0m \u001b[0mreadFile\u001b[0m\u001b[0;34m(\u001b[0m\u001b[0mfilename\u001b[0m\u001b[0;34m)\u001b[0m\u001b[0;34m:\u001b[0m\u001b[0;34m\u001b[0m\u001b[0;34m\u001b[0m\u001b[0m\n\u001b[0;32m----> 2\u001b[0;31m     \u001b[0;32mwith\u001b[0m \u001b[0mopen\u001b[0m\u001b[0;34m(\u001b[0m\u001b[0mfilename\u001b[0m\u001b[0;34m,\u001b[0m \u001b[0;34m'rt'\u001b[0m\u001b[0;34m)\u001b[0m \u001b[0;32mas\u001b[0m \u001b[0mfile\u001b[0m\u001b[0;34m:\u001b[0m\u001b[0;34m\u001b[0m\u001b[0;34m\u001b[0m\u001b[0m\n\u001b[0m\u001b[1;32m      3\u001b[0m       \u001b[0mtext\u001b[0m \u001b[0;34m=\u001b[0m \u001b[0mfile\u001b[0m\u001b[0;34m.\u001b[0m\u001b[0mread\u001b[0m\u001b[0;34m(\u001b[0m\u001b[0;34m)\u001b[0m\u001b[0;34m\u001b[0m\u001b[0;34m\u001b[0m\u001b[0m\n\u001b[1;32m      4\u001b[0m \u001b[0;34m\u001b[0m\u001b[0m\n\u001b[1;32m      5\u001b[0m     \u001b[0;32mreturn\u001b[0m \u001b[0mtext\u001b[0m\u001b[0;34m\u001b[0m\u001b[0;34m\u001b[0m\u001b[0m\n",
            "\u001b[0;31mFileNotFoundError\u001b[0m: [Errno 2] No such file or directory: '/content/drive/My Drive/Colab Notebooks/translator/content/de_kafka_prozess.txt'"
          ]
        }
      ]
    },
    {
      "cell_type": "code",
      "metadata": {
        "id": "8fiejI8hUygO"
      },
      "source": [
        ""
      ],
      "execution_count": 75,
      "outputs": []
    },
    {
      "cell_type": "markdown",
      "metadata": {
        "id": "ai035MOcbuFO"
      },
      "source": [
        "# Translate Sentences"
      ]
    },
    {
      "cell_type": "code",
      "metadata": {
        "colab": {
          "base_uri": "https://localhost:8080/",
          "height": 35
        },
        "id": "9VvJ8ovIcUMI",
        "outputId": "23794feb-a913-4442-d76d-b4d0bdcf8fda"
      },
      "source": [
        "\"There are %d sentences to translate.\"%len(sentences)"
      ],
      "execution_count": 76,
      "outputs": [
        {
          "output_type": "execute_result",
          "data": {
            "application/vnd.google.colaboratory.intrinsic+json": {
              "type": "string"
            },
            "text/plain": [
              "'There are 3608 sentences to translate.'"
            ]
          },
          "metadata": {
            "tags": []
          },
          "execution_count": 76
        }
      ]
    },
    {
      "cell_type": "code",
      "metadata": {
        "colab": {
          "base_uri": "https://localhost:8080/"
        },
        "id": "3avFbsAIbTbP",
        "outputId": "5e19f8b0-7ea4-461d-aec2-4f72a280fdd2"
      },
      "source": [
        "translations = []\n",
        "for idx, sentence in enumerate(sentences):\n",
        "  input_ids = tokenizer.encode(sentence, return_tensors=\"pt\")\n",
        "  outputs = model.generate(input_ids)\n",
        "  decoded = tokenizer.decode(outputs[0], skip_special_tokens=True)\n",
        "  translations.append({\n",
        "      'idx': idx,\n",
        "      'de': sentence, \n",
        "      'en': decoded\n",
        "  })\n",
        "  if idx % 100 == 0:\n",
        "    print('%dth batch is done!'%idx)"
      ],
      "execution_count": 77,
      "outputs": [
        {
          "output_type": "stream",
          "text": [
            "0th batch is done!\n",
            "100th batch is done!\n",
            "200th batch is done!\n",
            "300th batch is done!\n",
            "400th batch is done!\n",
            "500th batch is done!\n",
            "600th batch is done!\n",
            "700th batch is done!\n",
            "800th batch is done!\n",
            "900th batch is done!\n",
            "1000th batch is done!\n",
            "1100th batch is done!\n",
            "1200th batch is done!\n",
            "1300th batch is done!\n",
            "1400th batch is done!\n",
            "1500th batch is done!\n",
            "1600th batch is done!\n",
            "1700th batch is done!\n",
            "1800th batch is done!\n",
            "1900th batch is done!\n",
            "2000th batch is done!\n",
            "2100th batch is done!\n",
            "2200th batch is done!\n",
            "2300th batch is done!\n",
            "2400th batch is done!\n",
            "2500th batch is done!\n",
            "2600th batch is done!\n",
            "2700th batch is done!\n",
            "2800th batch is done!\n",
            "2900th batch is done!\n",
            "3000th batch is done!\n",
            "3100th batch is done!\n",
            "3200th batch is done!\n",
            "3300th batch is done!\n",
            "3400th batch is done!\n",
            "3500th batch is done!\n",
            "3600th batch is done!\n"
          ],
          "name": "stdout"
        }
      ]
    },
    {
      "cell_type": "markdown",
      "metadata": {
        "id": "VhgiFTnscpGC"
      },
      "source": [
        "# Save Translation"
      ]
    },
    {
      "cell_type": "code",
      "metadata": {
        "id": "6MafRgQ0cn8H"
      },
      "source": [
        "with open(\"%s%s_translated%s\"%(base_path, book_name_base, book_name_ext), \"w\") as f:\n",
        "  for item in translations:\n",
        "    f.write(\"%s|%s|%s\\n\"%(str(item['idx']), item['de'], item['en']))"
      ],
      "execution_count": 78,
      "outputs": []
    },
    {
      "cell_type": "markdown",
      "metadata": {
        "id": "A-Q53pyxgeae"
      },
      "source": [
        "# Read the translated and original English files"
      ]
    },
    {
      "cell_type": "code",
      "metadata": {
        "id": "H5LwfxfoVC18"
      },
      "source": [
        "sentences = readFile(base_path+book_name_base+\"_translated\"+book_name_ext).split('\\n') "
      ],
      "execution_count": 6,
      "outputs": []
    },
    {
      "cell_type": "code",
      "metadata": {
        "id": "d7HwTkIrVBUt"
      },
      "source": [
        "de_sentences = []\n",
        "en_sentences_translated = []\n",
        "for sentence in sentences: \n",
        "    if \"|\" in sentence:\n",
        "        de_sentence = sentence.split(\"|\")[1]\n",
        "        en_sentence = sentence.split(\"|\")[2]\n",
        "\n",
        "        de_sentences.append(de_sentence)\n",
        "        en_sentences_translated.append(en_sentence)        "
      ],
      "execution_count": 7,
      "outputs": []
    },
    {
      "cell_type": "code",
      "metadata": {
        "id": "KgtesqobOpPw"
      },
      "source": [
        "en_sentences = readFile(base_path + book_name_en).split('\\n')"
      ],
      "execution_count": 8,
      "outputs": []
    },
    {
      "cell_type": "code",
      "metadata": {
        "colab": {
          "base_uri": "https://localhost:8080/"
        },
        "id": "VrhVDQSqOrzp",
        "outputId": "3de25b45-9b3e-4f23-9bcd-a6a08e4640d8"
      },
      "source": [
        "en_sentences[:10]"
      ],
      "execution_count": 9,
      "outputs": [
        {
          "output_type": "execute_result",
          "data": {
            "text/plain": [
              "['The Trial Franz Kafka Chapter One Arrest - Conversation with Mrs. Grubach - Then Miss Bürstner',\n",
              " \"Someone must have been telling lies about Josef K., he knew he had done nothing wrong but, one morning, he was arrested. Every day at eight in the morning he was brought his breakfast by Mrs. Grubach's cook - Mrs. Grubach was his landlady - but today she didn't come. That had never happened before. K. waited a little while, looked from his pillow at the old woman who lived opposite and who was watching him with an inquisitiveness quite unusual for her, and finally, both hungry and disconcerted, rang the bell. There was immediately a knock at the door and a man entered. He had never seen the man in this house before. He was slim but firmly built, his clothes were black and close-fitting, with many folds and pockets, buckles and buttons and a belt, all of which gave the impression of being very practical but without making it very clear what they were actually for.\",\n",
              " '\"Who are you?\" asked K., sitting half upright in his bed. The man, however, ignored the question as if his arrival simply had to be accepted, and merely replied, \"You rang?\"',\n",
              " '\"Anna should have brought me my breakfast,\" said K. He tried to work out who the man actually was, first in silence, just through observation and by thinking about it, but the man didn\\'t stay still to be looked at for very long.',\n",
              " 'Instead he went over to the door, opened it slightly, and said to someone who was clearly standing immediately behind it, \"He wants Anna to bring him his breakfast.\"',\n",
              " \"There was a little laughter in the neighbouring room, it was not clear from the sound of it whether there were several people laughing. The strange man could not have learned anything from it that he hadn't known already, but now he said to K., as if making his report\",\n",
              " '\"It is not possible.\"',\n",
              " '\"It would be the first time that\\'s happened,\" said K., as he jumped out of bed and quickly pulled on his trousers. \"I want to see who that is in the next room, and why it is that Mrs. Grubach has let me be disturbed in this way.\"',\n",
              " 'It immediately occurred to him that he needn\\'t have said this out loud, and that he must to some extent have acknowledged their authority by doing so, but that didn\\'t seem important to him at the time. That, at least, is how the stranger took it, as he said, \"Don\\'t you think you\\'d better stay where you are?\"',\n",
              " '\"I want neither to stay here nor to be spoken to by you until you\\'ve introduced yourself.\" \"I meant it for your own good,\" said the stranger and opened the door, this time without being asked. The next room, which K. entered more slowly than he had intended, looked at first glance exactly the same as it had the previous evening. It was Mrs. Grubach\\'s living room, over-filled with furniture, tablecloths, porcelain and photographs. Perhaps there was a little more space in there than usual today, but if so it was not immediately obvious, especially as the main difference was the presence of a man sitting by the open window with a book from which he now looked up. \"You should have stayed in your room! Didn\\'t Franz tell you?\"']"
            ]
          },
          "metadata": {
            "tags": []
          },
          "execution_count": 9
        }
      ]
    },
    {
      "cell_type": "code",
      "metadata": {
        "colab": {
          "base_uri": "https://localhost:8080/"
        },
        "id": "p5AWE_DxWKpp",
        "outputId": "1bf8056b-2f08-47ab-ac4d-2446b047ca00"
      },
      "source": [
        "en_sentences_translated[:10]"
      ],
      "execution_count": 10,
      "outputs": [
        {
          "output_type": "execute_result",
          "data": {
            "text/plain": [
              "['The trial, Franz Kafka 1 arrest, conversation with Mrs. Grubach, then Miss Brüstner Someone must have slandered Josef K., because without having done anything wrong he was arrested one morning.',\n",
              " \"The cook of Mrs. Grubach, his room landlord, who brought him breakfast every day at around eight o'clock in the morning, did not come this time.\",\n",
              " 'This had never happened before.',\n",
              " 'K. waited a little longer, saw from his pillow the old woman who lived opposite him, and who observed him with a curiosity quite unusual in her, but then, at the same time bewildered and hungry, he rang the bell.',\n",
              " 'Immediately there was a knock and a man he had never seen in this apartment stepped in.',\n",
              " 'He was slender and yet solidly built, wearing a fitted black dress, which, similar to travel suits, had various pleats, pockets, buckles, buttons and a belt, and as a result, appeared particularly practical without anyone knowing what it was for.',\n",
              " '\"Who are you?\" K. asked and sat half upright in bed.',\n",
              " 'But the man ignored the question, as if one had to accept his appearance, and merely said in his turn, \"You rang the bell?\"',\n",
              " '\"Anna should bring me breakfast,\" K. said, and tried, at first tacitly, to establish through attention and consideration who the man actually was.',\n",
              " 'But he did not expose himself to his gaze for too long, but turned to the door, which he opened a little, to say to someone who was apparently just behind the door: \"He wants Anna to bring him breakfast.']"
            ]
          },
          "metadata": {
            "tags": []
          },
          "execution_count": 10
        }
      ]
    },
    {
      "cell_type": "markdown",
      "metadata": {
        "id": "6dDOkwWagnD9"
      },
      "source": [
        "# Preprocessing before fine-tuning Word2Vec vectors"
      ]
    },
    {
      "cell_type": "code",
      "metadata": {
        "colab": {
          "base_uri": "https://localhost:8080/"
        },
        "id": "rddfZY35PwW3",
        "outputId": "796a93ab-a4d3-48e6-f4ec-caa443294e2a"
      },
      "source": [
        "!pip install sentence_splitter"
      ],
      "execution_count": 11,
      "outputs": [
        {
          "output_type": "stream",
          "text": [
            "Collecting sentence_splitter\n",
            "\u001b[?25l  Downloading https://files.pythonhosted.org/packages/4a/ae/3bd609c760d57849d7ddf223762f1881f3c4df6467f4eadb3a33652b7e0d/sentence_splitter-1.4-py2.py3-none-any.whl (44kB)\n",
            "\r\u001b[K     |███████▎                        | 10kB 16.4MB/s eta 0:00:01\r\u001b[K     |██████████████▋                 | 20kB 11.5MB/s eta 0:00:01\r\u001b[K     |█████████████████████▉          | 30kB 8.2MB/s eta 0:00:01\r\u001b[K     |█████████████████████████████▏  | 40kB 7.3MB/s eta 0:00:01\r\u001b[K     |████████████████████████████████| 51kB 2.6MB/s \n",
            "\u001b[?25hRequirement already satisfied: regex>=2017.12.12 in /usr/local/lib/python3.6/dist-packages (from sentence_splitter) (2019.12.20)\n",
            "Installing collected packages: sentence-splitter\n",
            "Successfully installed sentence-splitter-1.4\n"
          ],
          "name": "stdout"
        }
      ]
    },
    {
      "cell_type": "code",
      "metadata": {
        "id": "99ngoAoSWg5g"
      },
      "source": [
        "text = ' '.join([str(elem) for elem in en_sentences]) "
      ],
      "execution_count": 12,
      "outputs": []
    },
    {
      "cell_type": "code",
      "metadata": {
        "id": "PcIg2PVGPzjo"
      },
      "source": [
        "from sentence_splitter import SentenceSplitter, split_text_into_sentences\n",
        "\n",
        "splitter = SentenceSplitter(language='en')\n",
        "all_en_sentences = splitter.split(text=text)"
      ],
      "execution_count": 13,
      "outputs": []
    },
    {
      "cell_type": "code",
      "metadata": {
        "colab": {
          "base_uri": "https://localhost:8080/"
        },
        "id": "_bDIF9uPzrFN",
        "outputId": "3511d9d3-f734-4f0e-c267-f7c6e6907b99"
      },
      "source": [
        "all_en_sentences[:10]"
      ],
      "execution_count": 14,
      "outputs": [
        {
          "output_type": "execute_result",
          "data": {
            "text/plain": [
              "['The Trial Franz Kafka Chapter One Arrest - Conversation with Mrs. Grubach - Then Miss Bürstner Someone must have been telling lies about Josef K., he knew he had done nothing wrong but, one morning, he was arrested.',\n",
              " \"Every day at eight in the morning he was brought his breakfast by Mrs. Grubach's cook - Mrs. Grubach was his landlady - but today she didn't come.\",\n",
              " 'That had never happened before.',\n",
              " 'K. waited a little while, looked from his pillow at the old woman who lived opposite and who was watching him with an inquisitiveness quite unusual for her, and finally, both hungry and disconcerted, rang the bell.',\n",
              " 'There was immediately a knock at the door and a man entered.',\n",
              " 'He had never seen the man in this house before.',\n",
              " 'He was slim but firmly built, his clothes were black and close-fitting, with many folds and pockets, buckles and buttons and a belt, all of which gave the impression of being very practical but without making it very clear what they were actually for.',\n",
              " '\"Who are you?\" asked K., sitting half upright in his bed.',\n",
              " 'The man, however, ignored the question as if his arrival simply had to be accepted, and merely replied, \"You rang?\"',\n",
              " '\"Anna should have brought me my breakfast,\" said K. He tried to work out who the man actually was, first in silence, just through observation and by thinking about it, but the man didn\\'t stay still to be looked at for very long.']"
            ]
          },
          "metadata": {
            "tags": []
          },
          "execution_count": 14
        }
      ]
    },
    {
      "cell_type": "code",
      "metadata": {
        "id": "wkSbyMmKa-fq",
        "colab": {
          "base_uri": "https://localhost:8080/"
        },
        "outputId": "dfeae1f4-c868-4c59-b45f-e4e866ab1538"
      },
      "source": [
        "import nltk\n",
        "nltk.download('punkt')\n",
        "from nltk.corpus import stopwords\n",
        "nltk.download('stopwords')\n",
        "stopwords = stopwords.words('english')"
      ],
      "execution_count": 15,
      "outputs": [
        {
          "output_type": "stream",
          "text": [
            "[nltk_data] Downloading package punkt to /root/nltk_data...\n",
            "[nltk_data]   Unzipping tokenizers/punkt.zip.\n",
            "[nltk_data] Downloading package stopwords to /root/nltk_data...\n",
            "[nltk_data]   Unzipping corpora/stopwords.zip.\n"
          ],
          "name": "stdout"
        }
      ]
    },
    {
      "cell_type": "code",
      "metadata": {
        "id": "HJzvmw3YBX3V"
      },
      "source": [
        "#save translated text seperately\n",
        "# train a language model -en with translated sentences \n",
        "import spacy\n",
        "import re\n",
        "from nltk.stem import PorterStemmer\n",
        "porter = PorterStemmer()\n",
        "min_len = 7\n",
        "def tokenize(sentence):\n",
        "    sentence = sentence.strip()\n",
        "    sentence = sentence.lower()\n",
        "    sentence = re.sub(r'n\\'t', \" not\", sentence)\n",
        "    sentence = re.sub(r'\\'ll', \" will\", sentence)\n",
        "    sentence = re.sub(r'\\'s', \" is\", sentence)     \n",
        "    sentence = re.sub(r'\\'m', \" am\", sentence)    \n",
        "    sentence = re.sub(r'\\'re', \" are\", sentence)\n",
        "    sentence = re.sub(r'\\'ve', \" have\", sentence)\n",
        "    sentence = sentence.replace('\\n', '')  \n",
        "    sentence = re.sub(r\"[^a-z'äüöß]+\", \" \", sentence)\n",
        "    sentence = re.sub(r'[\" \"]+', \" \", sentence)\n",
        "    tokens = en.tokenizer(sentence)\n",
        "    if len(tokens)>min_len:\n",
        "        return [porter.stem(tok.text) for tok in en.tokenizer(sentence) if porter.stem(tok.text) not in stopwords]\n",
        "    else:\n",
        "        return [porter.stem(tok.text) for tok in en.tokenizer(sentence)]\n",
        "en = spacy.load('en_core_web_sm')\n",
        "\n"
      ],
      "execution_count": 16,
      "outputs": []
    },
    {
      "cell_type": "markdown",
      "metadata": {
        "id": "w2anrkJ_geLR"
      },
      "source": [
        "# Training Word2Vec vectors"
      ]
    },
    {
      "cell_type": "markdown",
      "metadata": {
        "id": "EmxBqvhYic5l"
      },
      "source": [
        "Train a Word2vec using both original and translated english sentences"
      ]
    },
    {
      "cell_type": "code",
      "metadata": {
        "colab": {
          "base_uri": "https://localhost:8080/"
        },
        "id": "XpQ1eq_3CqZP",
        "outputId": "f7e5ca78-5f44-4728-f8d5-fcee0d548450"
      },
      "source": [
        "import gensim\n",
        "import numpy as np\n",
        "\n",
        "\n",
        "W2V_SIZE = 300\n",
        "W2V_WINDOW = 7\n",
        "W2V_EPOCH = 100\n",
        "W2V_MIN_COUNT = 2\n",
        "\n",
        "\n",
        "texts = [tokenize(_text) for _text in np.array(en_sentences_translated+all_en_sentences)] # divided into single sentences\n",
        "\n",
        "# Train Word Embeddings and save\n",
        "w2v_model = gensim.models.word2vec.Word2Vec(size=W2V_SIZE, window=W2V_WINDOW,                                                                                  min_count=W2V_MIN_COUNT)\n",
        "w2v_model.build_vocab(texts)\n",
        "words = w2v_model.wv.vocab.keys()\n",
        "vocab_size = len(words)\n",
        "print(\"Vocab size: \", vocab_size)\n",
        "\n",
        "w2v_model.train(texts, total_examples=len(texts), epochs=W2V_EPOCH)\n",
        "w2v_model.save('embeddings.txt')"
      ],
      "execution_count": 17,
      "outputs": [
        {
          "output_type": "stream",
          "text": [
            "Vocab size:  3145\n"
          ],
          "name": "stdout"
        }
      ]
    },
    {
      "cell_type": "code",
      "metadata": {
        "id": "PriYh20oDm91"
      },
      "source": [
        "w2v_model = gensim.models.word2vec.Word2Vec.load('embeddings.txt')"
      ],
      "execution_count": 18,
      "outputs": []
    },
    {
      "cell_type": "code",
      "metadata": {
        "colab": {
          "base_uri": "https://localhost:8080/"
        },
        "id": "G43u1Es3Njt7",
        "outputId": "f96f3031-d64b-4fc3-c4f7-cccaca5f4fee"
      },
      "source": [
        "w2v_model.most_similar('mr')"
      ],
      "execution_count": 19,
      "outputs": [
        {
          "output_type": "stream",
          "text": [
            "/usr/local/lib/python3.6/dist-packages/ipykernel_launcher.py:1: DeprecationWarning: Call to deprecated `most_similar` (Method will be removed in 4.0.0, use self.wv.most_similar() instead).\n",
            "  \"\"\"Entry point for launching an IPython kernel.\n"
          ],
          "name": "stderr"
        },
        {
          "output_type": "execute_result",
          "data": {
            "text/plain": [
              "[('ms', 0.7201731204986572),\n",
              " ('frau', 0.7011095285415649),\n",
              " ('apologet', 0.42527681589126587),\n",
              " ('nephew', 0.3429846465587616),\n",
              " ('herr', 0.3137998878955841),\n",
              " ('committe', 0.29427823424339294),\n",
              " ('offend', 0.276938259601593),\n",
              " ('authoris', 0.26617035269737244),\n",
              " ('captain', 0.2608180344104767),\n",
              " ('betray', 0.25873416662216187)]"
            ]
          },
          "metadata": {
            "tags": []
          },
          "execution_count": 19
        }
      ]
    },
    {
      "cell_type": "markdown",
      "metadata": {
        "id": "i32bmpxQgpbA"
      },
      "source": [
        "# Matching the sentences"
      ]
    },
    {
      "cell_type": "markdown",
      "metadata": {
        "id": "8BpSz_WNiMtm"
      },
      "source": [
        "Calculate sentence similarity by comparing avg of word vectors in the sentences"
      ]
    },
    {
      "cell_type": "code",
      "metadata": {
        "id": "vlGfibQNEEM2"
      },
      "source": [
        "import numpy as np\n",
        "from scipy import spatial\n",
        "\n",
        "index2word_set = set(w2v_model.wv.index2word)\n",
        "\n",
        "def avgFeatureVector(sentence, model, num_features, index2word_set):\n",
        "    words = tokenize(sentence)\n",
        "    feature_vec = np.zeros((num_features, ), dtype='float32')\n",
        "    n_words = 0\n",
        "    for word in set(words):\n",
        "        if word in index2word_set:\n",
        "            n_words += 1\n",
        "            feature_vec = np.add(feature_vec, model[word])              \n",
        "\n",
        "    if (n_words > 0):\n",
        "        feature_vec = np.divide(feature_vec, n_words)\n",
        "    return feature_vec"
      ],
      "execution_count": 20,
      "outputs": []
    },
    {
      "cell_type": "code",
      "metadata": {
        "id": "v7rPHQCJ2RlC"
      },
      "source": [
        "def normalize(arr):\n",
        "  return arr / max(np.linalg.norm(arr),1e-10)"
      ],
      "execution_count": 21,
      "outputs": []
    },
    {
      "cell_type": "code",
      "metadata": {
        "id": "vacUOxbAgZ0H",
        "colab": {
          "base_uri": "https://localhost:8080/"
        },
        "outputId": "d025bd1b-8f23-4f52-ef2b-02b095f53757"
      },
      "source": [
        "en_sentences_translated_vectors = [normalize(avg_feature_vector(sentence, model=w2v_model, num_features=300, index2word_set=index2word_set)) for sentence in en_sentences_translated]\n",
        "en_sentences_translated_vectors_2 = [normalize(avg_feature_vector(en_sentences_translated[i]+en_sentences_translated[i+1], model=w2v_model, num_features=300, index2word_set=index2word_set)) for i in range(len(en_sentences_translated)-1)]\n",
        "en_sentences_translated_vectors_3 = [normalize(avg_feature_vector(en_sentences_translated[i]+en_sentences_translated[i+1]+en_sentences_translated[i+2], model=w2v_model, num_features=300, index2word_set=index2word_set)) for i in range(len(en_sentences_translated)-2)]"
      ],
      "execution_count": 22,
      "outputs": [
        {
          "output_type": "stream",
          "text": [
            "/usr/local/lib/python3.6/dist-packages/ipykernel_launcher.py:13: DeprecationWarning: Call to deprecated `__getitem__` (Method will be removed in 4.0.0, use self.wv.__getitem__() instead).\n",
            "  del sys.path[0]\n"
          ],
          "name": "stderr"
        }
      ]
    },
    {
      "cell_type": "code",
      "metadata": {
        "colab": {
          "base_uri": "https://localhost:8080/"
        },
        "id": "8cF1K-_5vmgm",
        "outputId": "39e8293a-10f0-403e-fd20-e2aa41e07521"
      },
      "source": [
        "all_en_sentences_vectors = [normalize(avg_feature_vector(sentence, model=w2v_model, num_features=300, index2word_set=index2word_set)) for sentence in all_en_sentences]\n",
        "all_en_sentences_vectors_2 = [normalize(avg_feature_vector(all_en_sentences[i]+all_en_sentences[i+1], model=w2v_model, num_features=300, index2word_set=index2word_set)) for i in range(len(all_en_sentences)-1)]\n",
        "all_en_sentences_vectors_3 = [normalize(avg_feature_vector(all_en_sentences[i]+all_en_sentences[i+1]+all_en_sentences[i+2], model=w2v_model, num_features=300, index2word_set=index2word_set)) for i in range(len(all_en_sentences)-2)]"
      ],
      "execution_count": 23,
      "outputs": [
        {
          "output_type": "stream",
          "text": [
            "/usr/local/lib/python3.6/dist-packages/ipykernel_launcher.py:13: DeprecationWarning: Call to deprecated `__getitem__` (Method will be removed in 4.0.0, use self.wv.__getitem__() instead).\n",
            "  del sys.path[0]\n"
          ],
          "name": "stderr"
        }
      ]
    },
    {
      "cell_type": "code",
      "metadata": {
        "id": "KeaMZdKppdnD"
      },
      "source": [
        "import numpy as np\n",
        "i_1 = 0 \n",
        "i_2 = 0 \n",
        "threshold=0.05\n",
        "m_mat = np.empty((3,300))\n",
        "n_mat = np.empty((300,3))\n",
        "matching_sentences = []\n",
        "matching_translations = []\n",
        "while i_1<len(en_sentences_translated) and i_2<len(all_en_sentences):\n",
        "  m_mat[0,:] = en_sentences_translated_vectors[i_1]\n",
        "  if i_1<len(en_sentences_translated)-1:\n",
        "    m_mat[1,:] = en_sentences_translated_vectors_2[i_1]\n",
        "  if i_1<len(en_sentences_translated)-2:\n",
        "    m_mat[2,:] = en_sentences_translated_vectors_3[i_1]\n",
        "  n_mat[:,0] = all_en_sentences_vectors[i_2]\n",
        "  if i_2<len(all_en_sentences)-1:\n",
        "    n_mat[:,1] = all_en_sentences_vectors_2[i_2]\n",
        "  if i_2<len(all_en_sentences)-2:\n",
        "    n_mat[:,2] = all_en_sentences_vectors_3[i_2]\n",
        "  similarity = np.matmul(m_mat, n_mat)\n",
        "  row_max = np.argmax(similarity[0,:])\n",
        "  row_max_val = similarity[0,row_max]\n",
        "  if similarity[0,0]+threshold>= row_max_val:\n",
        "    row_max = 0\n",
        "    row_max_val = similarity[0,0]\n",
        "   \n",
        "  col_max = np.argmax(similarity[:,0])\n",
        "  col_max_val = similarity[col_max,0]\n",
        "  if similarity[0,0]+threshold>= col_max_val:\n",
        "    col_max = 0\n",
        "    col_max_val = similarity[0,0]\n",
        "   \n",
        "  #print(similarity)\n",
        "\n",
        "  if row_max_val>=col_max_val:\n",
        "    matching_idxs = (1,row_max+1)\n",
        "    matching_sentences.append(([en_sentences_translated[i_1]],all_en_sentences[i_2:(i_2+row_max+1)]))\n",
        "    matching_translations.append(([de_sentences[i_1]],all_en_sentences[i_2:(i_2+row_max+1)]))\n",
        "    #print((en_sentences_translated[i_1],all_en_sentences[i_2:(i_2+row_max+1)]))\n",
        "    i_1 +=1\n",
        "    i_2 += (row_max+1)\n",
        "  else:\n",
        "    matching_idxs = (col_max+1,1)\n",
        "    matching_sentences.append((en_sentences_translated[i_1:(i_1+col_max+1)],[all_en_sentences[i_2]]))\n",
        "    matching_translations.append((de_sentences[i_1:(i_1+col_max+1)],[all_en_sentences[i_2]]))\n",
        "    #print((en_sentences_translated[i_1:(i_1+col_max+1)],all_en_sentences[i_2]))\n",
        "    i_1 += (col_max+1)\n",
        "    i_2 +=1\n",
        "    "
      ],
      "execution_count": 32,
      "outputs": []
    },
    {
      "cell_type": "code",
      "metadata": {
        "colab": {
          "base_uri": "https://localhost:8080/"
        },
        "id": "2wlssvTuDSkw",
        "outputId": "5da8b302-6d92-4d1c-d7f3-726f5b938afc"
      },
      "source": [
        "matching_sentences[:10]"
      ],
      "execution_count": 33,
      "outputs": [
        {
          "output_type": "execute_result",
          "data": {
            "text/plain": [
              "[(['The trial, Franz Kafka 1 arrest, conversation with Mrs. Grubach, then Miss Brüstner Someone must have slandered Josef K., because without having done anything wrong he was arrested one morning.'],\n",
              "  ['The Trial Franz Kafka Chapter One Arrest - Conversation with Mrs. Grubach - Then Miss Bürstner Someone must have been telling lies about Josef K., he knew he had done nothing wrong but, one morning, he was arrested.']),\n",
              " ([\"The cook of Mrs. Grubach, his room landlord, who brought him breakfast every day at around eight o'clock in the morning, did not come this time.\"],\n",
              "  [\"Every day at eight in the morning he was brought his breakfast by Mrs. Grubach's cook - Mrs. Grubach was his landlady - but today she didn't come.\"]),\n",
              " (['This had never happened before.'], ['That had never happened before.']),\n",
              " (['K. waited a little longer, saw from his pillow the old woman who lived opposite him, and who observed him with a curiosity quite unusual in her, but then, at the same time bewildered and hungry, he rang the bell.'],\n",
              "  ['K. waited a little while, looked from his pillow at the old woman who lived opposite and who was watching him with an inquisitiveness quite unusual for her, and finally, both hungry and disconcerted, rang the bell.']),\n",
              " (['Immediately there was a knock and a man he had never seen in this apartment stepped in.'],\n",
              "  ['There was immediately a knock at the door and a man entered.',\n",
              "   'He had never seen the man in this house before.']),\n",
              " (['He was slender and yet solidly built, wearing a fitted black dress, which, similar to travel suits, had various pleats, pockets, buckles, buttons and a belt, and as a result, appeared particularly practical without anyone knowing what it was for.'],\n",
              "  ['He was slim but firmly built, his clothes were black and close-fitting, with many folds and pockets, buckles and buttons and a belt, all of which gave the impression of being very practical but without making it very clear what they were actually for.']),\n",
              " (['\"Who are you?\" K. asked and sat half upright in bed.'],\n",
              "  ['\"Who are you?\" asked K., sitting half upright in his bed.']),\n",
              " (['But the man ignored the question, as if one had to accept his appearance, and merely said in his turn, \"You rang the bell?\"'],\n",
              "  ['The man, however, ignored the question as if his arrival simply had to be accepted, and merely replied, \"You rang?\"']),\n",
              " (['\"Anna should bring me breakfast,\" K. said, and tried, at first tacitly, to establish through attention and consideration who the man actually was.'],\n",
              "  ['\"Anna should have brought me my breakfast,\" said K. He tried to work out who the man actually was, first in silence, just through observation and by thinking about it, but the man didn\\'t stay still to be looked at for very long.']),\n",
              " (['But he did not expose himself to his gaze for too long, but turned to the door, which he opened a little, to say to someone who was apparently just behind the door: \"He wants Anna to bring him breakfast.'],\n",
              "  ['Instead he went over to the door, opened it slightly, and said to someone who was clearly standing immediately behind it, \"He wants Anna to bring him his breakfast.\"'])]"
            ]
          },
          "metadata": {
            "tags": []
          },
          "execution_count": 33
        }
      ]
    },
    {
      "cell_type": "code",
      "metadata": {
        "id": "chY3LCZpJ1e9",
        "colab": {
          "base_uri": "https://localhost:8080/"
        },
        "outputId": "b9cc47c6-45b0-4043-f03f-f1aefa8f95ff"
      },
      "source": [
        "matching_translations[:10]"
      ],
      "execution_count": 34,
      "outputs": [
        {
          "output_type": "execute_result",
          "data": {
            "text/plain": [
              "[(['Der Prozess , Franz Kafka 1 Verhaftung , Gespräch mit Frau Grubach , dann Fräulein Brüstner Jemand mußte Josef K. verleumdet haben , denn ohne daß er etwas Böses getan hätte , wurde er eines Morgens verhaftet .'],\n",
              "  ['The Trial Franz Kafka Chapter One Arrest - Conversation with Mrs. Grubach - Then Miss Bürstner Someone must have been telling lies about Josef K., he knew he had done nothing wrong but, one morning, he was arrested.']),\n",
              " (['Die Köchin der Frau Grubach , seiner Zimmervermieterin , die ihm jeden Tag gegen acht Uhr früh das Frühstück brachte , kam diesmal nicht .'],\n",
              "  [\"Every day at eight in the morning he was brought his breakfast by Mrs. Grubach's cook - Mrs. Grubach was his landlady - but today she didn't come.\"]),\n",
              " (['Das war noch niemals geschehen .'], ['That had never happened before.']),\n",
              " (['K. wartete noch ein Weilchen , sah von seinem Kopfkissen aus die alte Frau , die ihm gegenüber wohnte und die ihn mit einer an ihr ganz ungewöhnlichen Neugierde beobachtete , dann aber , gleichzeitig befremdet und hungrig , läutete er .'],\n",
              "  ['K. waited a little while, looked from his pillow at the old woman who lived opposite and who was watching him with an inquisitiveness quite unusual for her, and finally, both hungry and disconcerted, rang the bell.']),\n",
              " (['Sofort klopfte es und ein Mann , den er in dieser Wohnung noch niemals gesehen hatte , trat ein .'],\n",
              "  ['There was immediately a knock at the door and a man entered.',\n",
              "   'He had never seen the man in this house before.']),\n",
              " (['Er war schlank und doch fest gebaut , er trug ein anliegendes schwarzes Kleid , das , ähnlich den Reiseanzügen , mit verschiedenen Falten , Taschen , Schnallen , Knöpfen und einem Gürtel versehen war und infolgedessen , ohne daß man sich darüber klar wurde , wozu es dienen sollte , besonders praktisch erschien .'],\n",
              "  ['He was slim but firmly built, his clothes were black and close-fitting, with many folds and pockets, buckles and buttons and a belt, all of which gave the impression of being very practical but without making it very clear what they were actually for.']),\n",
              " (['»Wer sind Sie?« fragte K. und saß gleich halb aufrecht im Bett .'],\n",
              "  ['\"Who are you?\" asked K., sitting half upright in his bed.']),\n",
              " (['Der Mann aber ging über die Frage hinweg , als müsse man seine Erscheinung hinnehmen , und sagte bloß seinerseits : »Sie haben geläutet?« '],\n",
              "  ['The man, however, ignored the question as if his arrival simply had to be accepted, and merely replied, \"You rang?\"']),\n",
              " (['»Anna soll mir das Frühstück bringen« , sagte K. und versuchte , zunächst stillschweigend , durch Aufmerksamkeit und Überlegung festzustellen , wer der Mann eigentlich war .'],\n",
              "  ['\"Anna should have brought me my breakfast,\" said K. He tried to work out who the man actually was, first in silence, just through observation and by thinking about it, but the man didn\\'t stay still to be looked at for very long.']),\n",
              " (['Aber dieser setzte sich nicht allzulange seinen Blicken aus , sondern wandte sich zur Tür , die er ein wenig öffnete , um jemandem , der offenbar knapp hinter der Tür stand , zu sagen : »Er will , daß Anna ihm das Frühstück bringt.'],\n",
              "  ['Instead he went over to the door, opened it slightly, and said to someone who was clearly standing immediately behind it, \"He wants Anna to bring him his breakfast.\"'])]"
            ]
          },
          "metadata": {
            "tags": []
          },
          "execution_count": 34
        }
      ]
    },
    {
      "cell_type": "code",
      "metadata": {
        "id": "e2ArooqzaIMu"
      },
      "source": [
        "idx = 0\n",
        "with open(\"%s%s_matched_en%s\"%(base_path, book_name_base, book_name_ext), \"w\") as f:\n",
        "  for item in matching_translations:\n",
        "    f.write(\"%s|%s|%s\\n\"%(str(idx), \"\".join(item[0]), \"\".join(item[1])))\n",
        "    idx+=1"
      ],
      "execution_count": 31,
      "outputs": []
    }
  ]
}